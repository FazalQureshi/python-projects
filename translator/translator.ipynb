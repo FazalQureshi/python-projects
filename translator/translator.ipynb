{
 "cells": [
  {
   "cell_type": "markdown",
   "metadata": {},
   "source": [
    "**<h1 style=\"color:cyan\" align=\"center\">Translator App with TextBlob</h1>**\n",
    "\n",
    "The goal is this app to find all the text files in a folder, detects the language the text is written into, \n",
    "\n",
    "\n",
    "and the translated text files should save in a target folder.\n",
    "\n",
    "\n",
    "The app should take a few rows at a time (in this case a sentence at a time), translate them/it, wait a few seconds and to continue the process.\n",
    "\n"
   ]
  },
  {
   "cell_type": "code",
   "execution_count": 1,
   "metadata": {},
   "outputs": [],
   "source": [
    "# Import\n",
    "import os, glob\n",
    "from textblob import TextBlob\n",
    "from pathlib import Path\n",
    "from textblob.sentiments import NaiveBayesAnalyzer\n",
    "from pprint import pprint\n",
    "import time\n",
    "import threading"
   ]
  },
  {
   "cell_type": "markdown",
   "metadata": {},
   "source": [
    "**<h3 style=\"color:yellow\" align=\"left\">Loading Text</h3>** "
   ]
  },
  {
   "cell_type": "code",
   "execution_count": 2,
   "metadata": {},
   "outputs": [],
   "source": [
    "# Get all csv files in a folder\n",
    "all_files = glob.glob(os.path.join(\"*.txt\"))"
   ]
  },
  {
   "cell_type": "code",
   "execution_count": 3,
   "metadata": {},
   "outputs": [
    {
     "name": "stdout",
     "output_type": "stream",
     "text": [
      "['text1.txt', 'text2.txt', 'text3.txt', 'text4.txt']\n"
     ]
    }
   ],
   "source": [
    "print(all_files)"
   ]
  },
  {
   "cell_type": "markdown",
   "metadata": {},
   "source": [
    "**<h3 style=\"color:yellow\" align=\"left\">Translation, Language Detection and Saving</h3>** "
   ]
  },
  {
   "cell_type": "code",
   "execution_count": 4,
   "metadata": {},
   "outputs": [],
   "source": [
    "def translate(file_name):\n",
    "    \n",
    "    os.chdir(r\"C:\\Users\\Administrator\\Desktop\\Python\\01_Python\\15_projects\\translator\")\n",
    "\n",
    "    print(file_name)\n",
    "    print()\n",
    "    txt = Path(f\"{file_name}\").read_text().replace(\"\\n\", \"\")\n",
    "    blob = TextBlob(txt)\n",
    "    \n",
    "    print(blob)\n",
    "    print()\n",
    "    print(\"The language of the text is: \", blob.detect_language().upper())\n",
    "    \n",
    "    print()\n",
    "    trans = \"\"\n",
    "    \n",
    "    for sentence in blob.sentences:\n",
    "        time.sleep(2.4)\n",
    "        translated_text = str(sentence.translate(to=\"de\"))\n",
    "        trans += translated_text + \" \"\n",
    "\n",
    "    # Changing the directory to the desired save-location\n",
    "    os.chdir(r\"C:\\Users\\Administrator\\Desktop\\Python\\01_Python\\15_projects\\translator\\translated_files\")\n",
    "\n",
    "    with open(f\"translated_{file_name}.txt\", mode=\"a+\", encoding=\"UTF-8\") as f:\n",
    "                f.write(f\"{trans}\")\n",
    "\n",
    "\n",
    "\n",
    "\n",
    "    print(trans)"
   ]
  },
  {
   "cell_type": "code",
   "execution_count": 5,
   "metadata": {},
   "outputs": [
    {
     "name": "stdout",
     "output_type": "stream",
     "text": [
      "text1.txt\n",
      "\n",
      "TextBlob is a Python (2 and 3) library for processing textual data.It provides a simple API for diving into common natural language processing (NLP) tasks such as part-of-speech tagging, noun phrase extraction, sentiment analysis, classification, translation, and more.\n",
      "\n",
      "The language of the text is:  EN\n",
      "\n",
      "TextBlob ist eine Python-(2 und 3)-Bibliothek zur Verarbeitung von Textdaten. Sie bietet eine einfache API zum Eintauchen in gängige Aufgaben der natürlichen Sprachverarbeitung (NLP) wie z , und mehr. \n",
      "text2.txt\n",
      "\n",
      "TensorFlow is a free and open-source software library for machine learning and artificial intelligence. It can be used across a range of tasks but has a particular focus on training and inference of deep neural networks.\n",
      "\n",
      "The language of the text is:  EN\n",
      "\n",
      "TensorFlow ist eine kostenlose Open-Source-Softwarebibliothek für maschinelles Lernen und künstliche Intelligenz. Es kann für eine Reihe von Aufgaben verwendet werden, konzentriert sich jedoch insbesondere auf das Training und die Inferenz von tiefen neuronalen Netzen. \n",
      "text3.txt\n",
      "\n",
      "Google Brain is a deep learning artificial intelligence research team under the umbrella of Google AI, a research division at Google dedicated to artificial intelligence. Formed in 2011, Google Brain combines open-ended machine learning research with information systems and large-scale computing resources.The team has created tools such as TensorFlow, which allow for neural networks to be used by the public, with multiple internal AI research projects. The team aims to create research opportunities in machine learning and natural language processing.\n",
      "\n",
      "The language of the text is:  EN\n",
      "\n",
      "Google Brain ist ein Deep-Learning-Forschungsteam für künstliche Intelligenz unter dem Dach von Google AI, einer Forschungsabteilung von Google, die sich der künstlichen Intelligenz widmet. Google Brain wurde 2011 gegründet und kombiniert offene maschinelle Lernforschung mit Informationssystemen und umfangreichen Computerressourcen. Das Team hat Tools wie TensorFlow entwickelt, die die Nutzung neuronaler Netze durch die Öffentlichkeit ermöglichen, mit mehreren internen KI-Forschungsprojekten . Das Team hat sich zum Ziel gesetzt, Forschungsmöglichkeiten im Bereich Machine Learning und Natural Language Processing zu schaffen. \n",
      "text4.txt\n",
      "\n",
      "DeepMind Technologies is a British artificial intelligence subsidiary of Alphabet Inc. and research laboratory founded in September 2010.DeepMind was acquired by Google[4] in 2014. The company is based in London, with research centres in Canada, France,[6] and the United States. In 2015, it became a wholly owned subsidiary of Alphabet Inc, Google's parent company.DeepMind has created a neural network that learns how to play video games in a fashion similar to that of humans, as well as a Neural Turing machine,or a neural network that may be able to access an external memory like a conventional Turing machine,resulting in a computer that mimics the short-term memory of the human brain.DeepMind made headlines in 2016 after its AlphaGo program beat a human professional Go player Lee Sedol, the world champion, in a five-game match, which was the subject of a documentary film.A more general program, AlphaZero, beat the most powerful programs playing go, chess and shogi (Japanese chess) after a few days of play against itself using reinforcement learning. In 2020, DeepMind made significant advances in the problem of protein folding.\n",
      "\n",
      "The language of the text is:  EN\n",
      "\n",
      "DeepMind Technologies ist eine britische Tochtergesellschaft für künstliche Intelligenz von Alphabet Inc. und ein im September 2010 gegründetes Forschungslabor. DeepMind wurde 2014 von Google[4] übernommen. Das Unternehmen hat seinen Sitz in London und unterhält Forschungszentren in Kanada, Frankreich[6] und den Vereinigten Staaten. Im Jahr 2015 wurde es eine hundertprozentige Tochtergesellschaft von Alphabet Inc, der Muttergesellschaft von Google Netzwerk, das wie eine herkömmliche Turing-Maschine auf einen externen Speicher zugreifen kann, was zu einem Computer führt, der das Kurzzeitgedächtnis des menschlichen Gehirns nachahmt.DeepMind machte 2016 Schlagzeilen, nachdem sein AlphaGo-Programm den menschlichen professionellen Go-Spieler Lee Sedol besiegt hatte. der Weltmeister, in einem Fünf-Spiele-Match, das Gegenstand eines Dokumentarfilms war. Ein allgemeineres Programm, AlphaZero, schlug die stärksten Programme beim Spielen von Go, Schach und Shogi (japanisches Schach) nach einigen Tagen des Spiels gegen sich selbst durch Verstärkungslernen. Im Jahr 2020 hat DeepMind erhebliche Fortschritte beim Problem der Proteinfaltung gemacht. \n"
     ]
    }
   ],
   "source": [
    "# Call of the function translate\n",
    "\n",
    "for f in all_files:\n",
    "    translate(f)"
   ]
  }
 ],
 "metadata": {
  "interpreter": {
   "hash": "7241d452e4e494699ef50a37887ed5c1dce1b126e013039f65d546903dedebae"
  },
  "kernelspec": {
   "display_name": "Python 3.9.7 64-bit",
   "language": "python",
   "name": "python3"
  },
  "language_info": {
   "codemirror_mode": {
    "name": "ipython",
    "version": 3
   },
   "file_extension": ".py",
   "mimetype": "text/x-python",
   "name": "python",
   "nbconvert_exporter": "python",
   "pygments_lexer": "ipython3",
   "version": "3.9.7"
  },
  "orig_nbformat": 4
 },
 "nbformat": 4,
 "nbformat_minor": 2
}
