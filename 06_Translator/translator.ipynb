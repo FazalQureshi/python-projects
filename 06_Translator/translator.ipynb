{
 "cells": [
  {
   "cell_type": "markdown",
   "metadata": {},
   "source": [
    "**<h1 style=\"color:cyan\" align=\"center\">Translator App with TextBlob</h1>**\n",
    "\n",
    "The goal is this app to find all the text files in a folder, detects the language the text is written into, \n",
    "\n",
    "\n",
    "and the translated text files should save in a target folder.\n",
    "\n",
    "\n",
    "The app should take a few rows at a time (in this case a sentence at a time), translate them/it, wait a few seconds and to continue the process.\n",
    "\n"
   ]
  },
  {
   "cell_type": "code",
   "execution_count": 1,
   "metadata": {},
   "outputs": [],
   "source": [
    "# Import\n",
    "import os, glob\n",
    "from textblob import TextBlob\n",
    "from pathlib import Path\n",
    "from textblob.sentiments import NaiveBayesAnalyzer\n",
    "from pprint import pprint\n",
    "import threading\n",
    "import time"
   ]
  },
  {
   "cell_type": "markdown",
   "metadata": {},
   "source": [
    "**<h3 style=\"color:yellow\" align=\"left\">Loading Text</h3>** "
   ]
  },
  {
   "cell_type": "code",
   "execution_count": 2,
   "metadata": {},
   "outputs": [],
   "source": [
    "# Get all csv files in a folder\n",
    "all_files = glob.glob(os.path.join(\"*.txt\"))"
   ]
  },
  {
   "cell_type": "code",
   "execution_count": 3,
   "metadata": {},
   "outputs": [
    {
     "name": "stdout",
     "output_type": "stream",
     "text": [
      "['text1.txt', 'text2.txt', 'text3.txt', 'text4.txt']\n"
     ]
    }
   ],
   "source": [
    "print(all_files)"
   ]
  },
  {
   "cell_type": "markdown",
   "metadata": {},
   "source": [
    "**<h3 style=\"color:yellow\" align=\"left\">Language detection TO BE ADDED LATER</h3>** "
   ]
  },
  {
   "cell_type": "markdown",
   "metadata": {},
   "source": [
    "**<h3 style=\"color:yellow\" align=\"left\">Translation</h3>** "
   ]
  },
  {
   "cell_type": "code",
   "execution_count": 5,
   "metadata": {},
   "outputs": [
    {
     "ename": "IndentationError",
     "evalue": "unindent does not match any outer indentation level (<tokenize>, line 8)",
     "output_type": "error",
     "traceback": [
      "\u001b[1;36m  File \u001b[1;32m\"<tokenize>\"\u001b[1;36m, line \u001b[1;32m8\u001b[0m\n\u001b[1;33m    for sentence in blob.sentences:\u001b[0m\n\u001b[1;37m    ^\u001b[0m\n\u001b[1;31mIndentationError\u001b[0m\u001b[1;31m:\u001b[0m unindent does not match any outer indentation level\n"
     ]
    }
   ],
   "source": [
    "for my_files in all_files: \n",
    "\ttxt = Path(f\"{my_files}\").read_text().replace(\"\\n\", \"\")\n",
    "\tblob = TextBlob(txt)\n",
    "\tprint(blob)\n",
    "\tprint()\n",
    "\n",
    "    # transl = \"\"\n",
    "    for sentence in blob.sentences:\n",
    "        time.sleep(2.4)\n",
    "        translated_text = str(sentence.translate(to=\"de\"))\n",
    "        transl += translated_text + \" \"\n",
    "        \n",
    "    num = 0\t\n",
    "    with open(f\"translated_text_{num}.txt\", mode=\"a+\", encoding=\"UTF-8\") as f:\n",
    "                f.write(f\"{transl}\")\n",
    "    num += 1\n",
    "            \n",
    "        \n",
    "    # Call of the function translate\n",
    "        \n",
    "\"\"\" What is A+ mode in python? The a+ creates a new file or opens an existing file for reading and writing , and the file pointer position at the end of the file\"\"\"\n",
    "\n"
   ]
  },
  {
   "cell_type": "code",
   "execution_count": null,
   "metadata": {},
   "outputs": [
    {
     "name": "stdout",
     "output_type": "stream",
     "text": [
      "TextBlob is a Python (2 and 3) library for processing textual data.It provides a simple API for diving into common natural language processing (NLP) tasks such as part-of-speech tagging, noun phrase extraction, sentiment analysis, classification, translation, and more.\n",
      "\n"
     ]
    }
   ],
   "source": [
    "txt = Path(\"text1.txt\").read_text().replace(\"\\n\", \"\")\n",
    "blob = TextBlob(txt)\n",
    "print(blob)\n",
    "print()\n",
    "\n",
    "\n",
    "def translate(blb):\n",
    "    trans = \"\"\n",
    "    for sentence in blb.sentences:\n",
    "        time.sleep(2.4)\n",
    "        translated_text = str(sentence.translate(to=\"de\"))\n",
    "        trans += translated_text + \" \"\n",
    "        \n",
    "    with open(\"translated_text.txt\", mode=\"a+\", encoding=\"UTF-8\") as f:\n",
    "            f.write(f\"{trans}\")\n",
    "\"\"\" What is A+ mode in python? The a+ creates a new file or opens an existing file for reading and writing , and the file pointer position at the end of the file\"\"\"\n",
    "\n",
    "translate(blob)\n"
   ]
  },
  {
   "cell_type": "markdown",
   "metadata": {},
   "source": [
    "**<h3 style=\"color:yellow\" align=\"left\">Save the files in a Target Folder</h3>** "
   ]
  },
  {
   "cell_type": "code",
   "execution_count": null,
   "metadata": {},
   "outputs": [
    {
     "ename": "NameError",
     "evalue": "name 'translated_text' is not defined",
     "output_type": "error",
     "traceback": [
      "\u001b[1;31m---------------------------------------------------------------------------\u001b[0m",
      "\u001b[1;31mNameError\u001b[0m                                 Traceback (most recent call last)",
      "\u001b[1;32mC:\\Users\\ADMINI~1\\AppData\\Local\\Temp/ipykernel_5484/2599983941.py\u001b[0m in \u001b[0;36m<module>\u001b[1;34m\u001b[0m\n\u001b[1;32m----> 1\u001b[1;33m \u001b[0mprint\u001b[0m\u001b[1;33m(\u001b[0m\u001b[0mtranslated_text\u001b[0m\u001b[1;33m)\u001b[0m\u001b[1;33m\u001b[0m\u001b[1;33m\u001b[0m\u001b[0m\n\u001b[0m",
      "\u001b[1;31mNameError\u001b[0m: name 'translated_text' is not defined"
     ]
    }
   ],
   "source": [
    "print(translated_text)"
   ]
  },
  {
   "cell_type": "code",
   "execution_count": null,
   "metadata": {},
   "outputs": [
    {
     "name": "stdout",
     "output_type": "stream",
     "text": [
      "TextBlob est une bibliothèque Python (2 et 3) pour le traitement de données textuelles. Elle fournit une API simple pour plonger dans les tâches courantes de traitement du langage naturel (NLP) telles que le balisage de parties de discours, l'extraction de phrases nominales, l'analyse des sentiments, la classification, la traduction , et plus.\n"
     ]
    }
   ],
   "source": [
    "texts = []\n",
    "for f in all_files:\n",
    "    if f == \"text1.txt\":\n",
    "        txt = Path(f).read_text().replace(\"\\n\", \"\")\n",
    "        blob = TextBlob(txt)\n",
    "        translated_text = blob.translate(to=\"fr\")\n",
    "        print(translated_text)"
   ]
  },
  {
   "cell_type": "code",
   "execution_count": null,
   "metadata": {},
   "outputs": [
    {
     "name": "stdout",
     "output_type": "stream",
     "text": [
      "TextBlob est une bibliothèque Python (2 et 3) pour le traitement de données textuelles. Elle fournit une API simple pour plonger dans les tâches courantes de traitement du langage naturel (NLP) telles que le balisage de parties de discours, l'extraction de phrases nominales, l'analyse des sentiments, la classification, la traduction , et plus.\n"
     ]
    }
   ],
   "source": [
    "print(translated_text)"
   ]
  },
  {
   "cell_type": "code",
   "execution_count": null,
   "metadata": {},
   "outputs": [
    {
     "name": "stdout",
     "output_type": "stream",
     "text": [
      "text1.txt <class 'textblob.blob.TextBlob'>\n"
     ]
    }
   ],
   "source": [
    "blob = TextBlob(all_files[0])\n",
    "print(blob, type(blob))"
   ]
  }
 ],
 "metadata": {
  "interpreter": {
   "hash": "7241d452e4e494699ef50a37887ed5c1dce1b126e013039f65d546903dedebae"
  },
  "kernelspec": {
   "display_name": "Python 3.9.7 64-bit",
   "language": "python",
   "name": "python3"
  },
  "language_info": {
   "codemirror_mode": {
    "name": "ipython",
    "version": 3
   },
   "file_extension": ".py",
   "mimetype": "text/x-python",
   "name": "python",
   "nbconvert_exporter": "python",
   "pygments_lexer": "ipython3",
   "version": "3.9.7"
  },
  "orig_nbformat": 4
 },
 "nbformat": 4,
 "nbformat_minor": 2
}
