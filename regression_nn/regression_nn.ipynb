{
 "cells": [
  {
   "cell_type": "code",
   "execution_count": 19,
   "metadata": {},
   "outputs": [],
   "source": [
    "from keras import models\n",
    "from keras import layers\n",
    "\n",
    "import pandas as pd\n",
    "\n",
    "import matplotlib.pyplot as plt\n",
    "import numpy as np\n",
    "\n",
    "# for confusion matrix (old way)\n",
    "import itertools\n",
    "from sklearn.metrics import confusion_matrix\n",
    "\n",
    "# for confusion matrix (new way)\n",
    "from sklearn.metrics import plot_confusion_matrix\n",
    "\n",
    "import tensorflow as tf"
   ]
  },
  {
   "cell_type": "code",
   "execution_count": 20,
   "metadata": {},
   "outputs": [
    {
     "data": {
      "text/html": [
       "<div>\n",
       "<style scoped>\n",
       "    .dataframe tbody tr th:only-of-type {\n",
       "        vertical-align: middle;\n",
       "    }\n",
       "\n",
       "    .dataframe tbody tr th {\n",
       "        vertical-align: top;\n",
       "    }\n",
       "\n",
       "    .dataframe thead th {\n",
       "        text-align: right;\n",
       "    }\n",
       "</style>\n",
       "<table border=\"1\" class=\"dataframe\">\n",
       "  <thead>\n",
       "    <tr style=\"text-align: right;\">\n",
       "      <th></th>\n",
       "      <th>x1</th>\n",
       "      <th>x2</th>\n",
       "      <th>y</th>\n",
       "    </tr>\n",
       "  </thead>\n",
       "  <tbody>\n",
       "    <tr>\n",
       "      <th>0</th>\n",
       "      <td>10</td>\n",
       "      <td>100</td>\n",
       "      <td>50</td>\n",
       "    </tr>\n",
       "    <tr>\n",
       "      <th>1</th>\n",
       "      <td>20</td>\n",
       "      <td>20</td>\n",
       "      <td>400</td>\n",
       "    </tr>\n",
       "    <tr>\n",
       "      <th>2</th>\n",
       "      <td>30</td>\n",
       "      <td>40</td>\n",
       "      <td>100</td>\n",
       "    </tr>\n",
       "    <tr>\n",
       "      <th>3</th>\n",
       "      <td>40</td>\n",
       "      <td>150</td>\n",
       "      <td>380</td>\n",
       "    </tr>\n",
       "    <tr>\n",
       "      <th>4</th>\n",
       "      <td>50</td>\n",
       "      <td>151</td>\n",
       "      <td>80</td>\n",
       "    </tr>\n",
       "  </tbody>\n",
       "</table>\n",
       "</div>"
      ],
      "text/plain": [
       "   x1   x2    y\n",
       "0  10  100   50\n",
       "1  20   20  400\n",
       "2  30   40  100\n",
       "3  40  150  380\n",
       "4  50  151   80"
      ]
     },
     "execution_count": 20,
     "metadata": {},
     "output_type": "execute_result"
    }
   ],
   "source": [
    "data_set = pd.read_csv(\"reg_data.csv\")\n",
    "data_set.head()"
   ]
  },
  {
   "cell_type": "code",
   "execution_count": 21,
   "metadata": {},
   "outputs": [
    {
     "data": {
      "text/plain": [
       "(30, 3)"
      ]
     },
     "execution_count": 21,
     "metadata": {},
     "output_type": "execute_result"
    }
   ],
   "source": [
    "data_set.shape"
   ]
  },
  {
   "cell_type": "markdown",
   "metadata": {},
   "source": [
    "## Scalling"
   ]
  },
  {
   "cell_type": "code",
   "execution_count": 22,
   "metadata": {},
   "outputs": [],
   "source": [
    "data_set[\"x1\"] = data_set[\"x1\"]/data_set[\"x1\"].max()\n",
    "data_set[\"x2\"] = data_set[\"x2\"]/data_set[\"x2\"].max()\n",
    "data_set[\"y\"] = data_set[\"y\"]/data_set[\"y\"].max()"
   ]
  },
  {
   "cell_type": "code",
   "execution_count": 23,
   "metadata": {},
   "outputs": [
    {
     "data": {
      "text/plain": [
       "0     0.033333\n",
       "1     0.066667\n",
       "2     0.100000\n",
       "3     0.133333\n",
       "4     0.166667\n",
       "5     0.200000\n",
       "6     0.233333\n",
       "7     0.266667\n",
       "8     0.300000\n",
       "9     0.333333\n",
       "10    0.366667\n",
       "11    0.400000\n",
       "12    0.433333\n",
       "13    0.466667\n",
       "14    0.500000\n",
       "15    0.533333\n",
       "16    0.566667\n",
       "17    0.600000\n",
       "18    0.633333\n",
       "19    0.666667\n",
       "20    0.700000\n",
       "21    0.733333\n",
       "22    0.766667\n",
       "23    0.800000\n",
       "24    0.833333\n",
       "25    0.866667\n",
       "26    0.900000\n",
       "27    0.933333\n",
       "28    0.966667\n",
       "29    1.000000\n",
       "Name: x1, dtype: float64"
      ]
     },
     "execution_count": 23,
     "metadata": {},
     "output_type": "execute_result"
    }
   ],
   "source": [
    "data_set[\"x1\"]"
   ]
  },
  {
   "cell_type": "code",
   "execution_count": 24,
   "metadata": {},
   "outputs": [
    {
     "data": {
      "text/plain": [
       "0     0.125\n",
       "1     1.000\n",
       "2     0.250\n",
       "3     0.950\n",
       "4     0.200\n",
       "5     1.000\n",
       "6     0.375\n",
       "7     0.625\n",
       "8     1.000\n",
       "9     0.375\n",
       "10    0.625\n",
       "11    1.000\n",
       "12    0.250\n",
       "13    0.950\n",
       "14    0.200\n",
       "15    0.125\n",
       "16    1.000\n",
       "17    0.250\n",
       "18    0.950\n",
       "19    0.200\n",
       "20    0.625\n",
       "21    1.000\n",
       "22    0.250\n",
       "23    0.950\n",
       "24    0.200\n",
       "25    0.125\n",
       "26    1.000\n",
       "27    0.250\n",
       "28    0.950\n",
       "29    0.200\n",
       "Name: y, dtype: float64"
      ]
     },
     "execution_count": 24,
     "metadata": {},
     "output_type": "execute_result"
    }
   ],
   "source": [
    "data_set[\"y\"]"
   ]
  },
  {
   "cell_type": "code",
   "execution_count": 25,
   "metadata": {},
   "outputs": [],
   "source": [
    "X = data_set[[\"x1\"]].to_numpy()\n",
    "y = data_set[\"y\"].to_numpy()"
   ]
  },
  {
   "cell_type": "code",
   "execution_count": 26,
   "metadata": {},
   "outputs": [
    {
     "name": "stdout",
     "output_type": "stream",
     "text": [
      "(30, 1)\n",
      "(30,)\n"
     ]
    }
   ],
   "source": [
    "print(X.shape)\n",
    "print(y.shape)"
   ]
  },
  {
   "cell_type": "code",
   "execution_count": 27,
   "metadata": {},
   "outputs": [
    {
     "data": {
      "image/png": "[encoded data removed]",
      "text/plain": [
       "<Figure size 432x288 with 1 Axes>"
      ]
     },
     "metadata": {
      "needs_background": "light"
     },
     "output_type": "display_data"
    }
   ],
   "source": [
    "plt.xlabel(\"x\")\n",
    "plt.ylabel(\"y\")\n",
    "plt.plot(data_set[\"x1\"], data_set[\"y\"], color=\"red\")\n",
    "#plt.plot(data_set[\"x2\"], data_set[\"y\"], color=\"blue\")\n",
    "\n",
    "plt.show()"
   ]
  },
  {
   "cell_type": "code",
   "execution_count": 28,
   "metadata": {},
   "outputs": [],
   "source": [
    "from sklearn.model_selection import train_test_split\n",
    "\n",
    "\n",
    "X_train, X_test, y_train, y_test=train_test_split(X,  y,test_size=0.2)"
   ]
  },
  {
   "cell_type": "code",
   "execution_count": 29,
   "metadata": {},
   "outputs": [
    {
     "name": "stdout",
     "output_type": "stream",
     "text": [
      "(24, 1)\n",
      "(6, 1)\n",
      "(6,)\n"
     ]
    }
   ],
   "source": [
    "print(X_train.shape)\n",
    "print(X_test.shape)\n",
    "print(y_test.shape)"
   ]
  },
  {
   "cell_type": "markdown",
   "metadata": {},
   "source": [
    "## Paramters"
   ]
  },
  {
   "cell_type": "code",
   "execution_count": 30,
   "metadata": {},
   "outputs": [],
   "source": [
    "epoch = 100\n",
    "activ = [\"sigmoid\", \"tanh\", \"relu\", \"softmax\", \"linear\"]\n",
    "\n",
    "\n",
    "layer_1 = 15 #input layer\n",
    "layer_2 = 5 #hidden layer\n",
    "\n",
    "batch_size = 5"
   ]
  },
  {
   "cell_type": "markdown",
   "metadata": {},
   "source": [
    "## Network"
   ]
  },
  {
   "cell_type": "code",
   "execution_count": 31,
   "metadata": {},
   "outputs": [],
   "source": [
    "network = models.Sequential()\n",
    "\n",
    "network.add(layers.Dense(15, activation=activ[2], input_shape = (1,))) # x1 is our input\n",
    "network.add(layers.Dense(10, activation=activ[2]))\n",
    "#network.add(layers.Dense(15, activation=activ[2]))\n",
    "\n",
    "# Output Layer\n",
    "network.add(layers.Dense(1, activation=activ[4])) # output layer"
   ]
  },
  {
   "cell_type": "code",
   "execution_count": 32,
   "metadata": {},
   "outputs": [
    {
     "name": "stdout",
     "output_type": "stream",
     "text": [
      "Model: \"sequential_1\"\n",
      "_________________________________________________________________\n",
      " Layer (type)                Output Shape              Param #   \n",
      "=================================================================\n",
      " dense_3 (Dense)             (None, 15)                30        \n",
      "                                                                 \n",
      " dense_4 (Dense)             (None, 10)                160       \n",
      "                                                                 \n",
      " dense_5 (Dense)             (None, 1)                 11        \n",
      "                                                                 \n",
      "=================================================================\n",
      "Total params: 201\n",
      "Trainable params: 201\n",
      "Non-trainable params: 0\n",
      "_________________________________________________________________\n"
     ]
    }
   ],
   "source": [
    "network.summary()"
   ]
  },
  {
   "cell_type": "code",
   "execution_count": 33,
   "metadata": {},
   "outputs": [],
   "source": [
    "network.compile(loss=\"mean_squared_error\", optimizer=tf.optimizers.Adam(learning_rate=0.1), metrics=[\"mse\"])"
   ]
  },
  {
   "cell_type": "code",
   "execution_count": 34,
   "metadata": {},
   "outputs": [
    {
     "name": "stdout",
     "output_type": "stream",
     "text": [
      "Epoch 1/100\n",
      "1/1 [==============================] - 1s 1s/step - loss: 0.7050 - mse: 0.7050 - val_loss: 0.4695 - val_mse: 0.4695\n",
      "Epoch 2/100\n",
      "1/1 [==============================] - 0s 42ms/step - loss: 0.3618 - mse: 0.3618 - val_loss: 0.2287 - val_mse: 0.2287\n",
      "Epoch 3/100\n",
      "1/1 [==============================] - 0s 31ms/step - loss: 0.1737 - mse: 0.1737 - val_loss: 0.1457 - val_mse: 0.1457\n",
      "Epoch 4/100\n",
      "1/1 [==============================] - 0s 33ms/step - loss: 0.1719 - mse: 0.1719 - val_loss: 0.1907 - val_mse: 0.1907\n",
      "Epoch 5/100\n",
      "1/1 [==============================] - 0s 45ms/step - loss: 0.2461 - mse: 0.2461 - val_loss: 0.1641 - val_mse: 0.1641\n",
      "Epoch 6/100\n",
      "1/1 [==============================] - 0s 39ms/step - loss: 0.2086 - mse: 0.2086 - val_loss: 0.1381 - val_mse: 0.1381\n",
      "Epoch 7/100\n",
      "1/1 [==============================] - 0s 277ms/step - loss: 0.1584 - mse: 0.1584 - val_loss: 0.1391 - val_mse: 0.1391\n",
      "Epoch 8/100\n",
      "1/1 [==============================] - 0s 30ms/step - loss: 0.1362 - mse: 0.1362 - val_loss: 0.1575 - val_mse: 0.1575\n",
      "Epoch 9/100\n",
      "1/1 [==============================] - 0s 33ms/step - loss: 0.1362 - mse: 0.1362 - val_loss: 0.1780 - val_mse: 0.1780\n",
      "Epoch 10/100\n",
      "1/1 [==============================] - 0s 51ms/step - loss: 0.1444 - mse: 0.1444 - val_loss: 0.1920 - val_mse: 0.1920\n",
      "Epoch 11/100\n",
      "1/1 [==============================] - 0s 39ms/step - loss: 0.1515 - mse: 0.1515 - val_loss: 0.1974 - val_mse: 0.1974\n",
      "Epoch 12/100\n",
      "1/1 [==============================] - 0s 54ms/step - loss: 0.1543 - mse: 0.1543 - val_loss: 0.1954 - val_mse: 0.1954\n",
      "Epoch 13/100\n",
      "1/1 [==============================] - 0s 124ms/step - loss: 0.1531 - mse: 0.1531 - val_loss: 0.1881 - val_mse: 0.1881\n",
      "Epoch 14/100\n",
      "1/1 [==============================] - 0s 264ms/step - loss: 0.1492 - mse: 0.1492 - val_loss: 0.1778 - val_mse: 0.1778\n",
      "Epoch 15/100\n",
      "1/1 [==============================] - 0s 45ms/step - loss: 0.1443 - mse: 0.1443 - val_loss: 0.1670 - val_mse: 0.1670\n",
      "Epoch 16/100\n",
      "1/1 [==============================] - 0s 92ms/step - loss: 0.1397 - mse: 0.1397 - val_loss: 0.1574 - val_mse: 0.1574\n",
      "Epoch 17/100\n",
      "1/1 [==============================] - 0s 325ms/step - loss: 0.1361 - mse: 0.1361 - val_loss: 0.1492 - val_mse: 0.1492\n",
      "Epoch 18/100\n",
      "1/1 [==============================] - 0s 81ms/step - loss: 0.1342 - mse: 0.1342 - val_loss: 0.1431 - val_mse: 0.1431\n",
      "Epoch 19/100\n",
      "1/1 [==============================] - 0s 191ms/step - loss: 0.1339 - mse: 0.1339 - val_loss: 0.1389 - val_mse: 0.1389\n",
      "Epoch 20/100\n",
      "1/1 [==============================] - 0s 45ms/step - loss: 0.1350 - mse: 0.1350 - val_loss: 0.1365 - val_mse: 0.1365\n",
      "Epoch 21/100\n",
      "1/1 [==============================] - 0s 38ms/step - loss: 0.1368 - mse: 0.1368 - val_loss: 0.1352 - val_mse: 0.1352\n",
      "Epoch 22/100\n",
      "1/1 [==============================] - 0s 61ms/step - loss: 0.1386 - mse: 0.1386 - val_loss: 0.1347 - val_mse: 0.1347\n",
      "Epoch 23/100\n",
      "1/1 [==============================] - 0s 36ms/step - loss: 0.1398 - mse: 0.1398 - val_loss: 0.1346 - val_mse: 0.1346\n",
      "Epoch 24/100\n",
      "1/1 [==============================] - 0s 61ms/step - loss: 0.1401 - mse: 0.1401 - val_loss: 0.1348 - val_mse: 0.1348\n",
      "Epoch 25/100\n",
      "1/1 [==============================] - 0s 77ms/step - loss: 0.1395 - mse: 0.1395 - val_loss: 0.1354 - val_mse: 0.1354\n",
      "Epoch 26/100\n",
      "1/1 [==============================] - 0s 254ms/step - loss: 0.1383 - mse: 0.1383 - val_loss: 0.1364 - val_mse: 0.1364\n",
      "Epoch 27/100\n",
      "1/1 [==============================] - 0s 56ms/step - loss: 0.1368 - mse: 0.1368 - val_loss: 0.1381 - val_mse: 0.1381\n",
      "Epoch 28/100\n",
      "1/1 [==============================] - 0s 98ms/step - loss: 0.1355 - mse: 0.1355 - val_loss: 0.1402 - val_mse: 0.1402\n",
      "Epoch 29/100\n",
      "1/1 [==============================] - 0s 89ms/step - loss: 0.1345 - mse: 0.1345 - val_loss: 0.1428 - val_mse: 0.1428\n",
      "Epoch 30/100\n",
      "1/1 [==============================] - 0s 481ms/step - loss: 0.1339 - mse: 0.1339 - val_loss: 0.1456 - val_mse: 0.1456\n",
      "Epoch 31/100\n",
      "1/1 [==============================] - 0s 37ms/step - loss: 0.1338 - mse: 0.1338 - val_loss: 0.1484 - val_mse: 0.1484\n",
      "Epoch 32/100\n",
      "1/1 [==============================] - 0s 31ms/step - loss: 0.1340 - mse: 0.1340 - val_loss: 0.1509 - val_mse: 0.1509\n",
      "Epoch 33/100\n",
      "1/1 [==============================] - 0s 51ms/step - loss: 0.1344 - mse: 0.1344 - val_loss: 0.1528 - val_mse: 0.1528\n",
      "Epoch 34/100\n",
      "1/1 [==============================] - 0s 201ms/step - loss: 0.1348 - mse: 0.1348 - val_loss: 0.1541 - val_mse: 0.1541\n",
      "Epoch 35/100\n",
      "1/1 [==============================] - 0s 97ms/step - loss: 0.1351 - mse: 0.1351 - val_loss: 0.1546 - val_mse: 0.1546\n",
      "Epoch 36/100\n",
      "1/1 [==============================] - 0s 51ms/step - loss: 0.1353 - mse: 0.1353 - val_loss: 0.1543 - val_mse: 0.1543\n",
      "Epoch 37/100\n",
      "1/1 [==============================] - 0s 29ms/step - loss: 0.1352 - mse: 0.1352 - val_loss: 0.1535 - val_mse: 0.1535\n",
      "Epoch 38/100\n",
      "1/1 [==============================] - 0s 181ms/step - loss: 0.1350 - mse: 0.1350 - val_loss: 0.1521 - val_mse: 0.1521\n",
      "Epoch 39/100\n",
      "1/1 [==============================] - 0s 29ms/step - loss: 0.1347 - mse: 0.1347 - val_loss: 0.1505 - val_mse: 0.1505\n",
      "Epoch 40/100\n",
      "1/1 [==============================] - 0s 35ms/step - loss: 0.1343 - mse: 0.1343 - val_loss: 0.1487 - val_mse: 0.1487\n",
      "Epoch 41/100\n",
      "1/1 [==============================] - 0s 44ms/step - loss: 0.1341 - mse: 0.1341 - val_loss: 0.1469 - val_mse: 0.1469\n",
      "Epoch 42/100\n",
      "1/1 [==============================] - 0s 39ms/step - loss: 0.1339 - mse: 0.1339 - val_loss: 0.1452 - val_mse: 0.1452\n",
      "Epoch 43/100\n",
      "1/1 [==============================] - 0s 199ms/step - loss: 0.1338 - mse: 0.1338 - val_loss: 0.1438 - val_mse: 0.1438\n",
      "Epoch 44/100\n",
      "1/1 [==============================] - 0s 45ms/step - loss: 0.1339 - mse: 0.1339 - val_loss: 0.1427 - val_mse: 0.1427\n",
      "Epoch 45/100\n",
      "1/1 [==============================] - 0s 28ms/step - loss: 0.1340 - mse: 0.1340 - val_loss: 0.1419 - val_mse: 0.1419\n",
      "Epoch 46/100\n",
      "1/1 [==============================] - 0s 53ms/step - loss: 0.1341 - mse: 0.1341 - val_loss: 0.1414 - val_mse: 0.1414\n",
      "Epoch 47/100\n",
      "1/1 [==============================] - 0s 44ms/step - loss: 0.1342 - mse: 0.1342 - val_loss: 0.1412 - val_mse: 0.1412\n",
      "Epoch 48/100\n",
      "1/1 [==============================] - 0s 55ms/step - loss: 0.1342 - mse: 0.1342 - val_loss: 0.1412 - val_mse: 0.1412\n",
      "Epoch 49/100\n",
      "1/1 [==============================] - 0s 31ms/step - loss: 0.1342 - mse: 0.1342 - val_loss: 0.1414 - val_mse: 0.1414\n",
      "Epoch 50/100\n",
      "1/1 [==============================] - 0s 53ms/step - loss: 0.1342 - mse: 0.1342 - val_loss: 0.1419 - val_mse: 0.1419\n",
      "Epoch 51/100\n",
      "1/1 [==============================] - 0s 62ms/step - loss: 0.1341 - mse: 0.1341 - val_loss: 0.1425 - val_mse: 0.1425\n",
      "Epoch 52/100\n",
      "1/1 [==============================] - 0s 241ms/step - loss: 0.1340 - mse: 0.1340 - val_loss: 0.1433 - val_mse: 0.1433\n",
      "Epoch 53/100\n",
      "1/1 [==============================] - 0s 26ms/step - loss: 0.1339 - mse: 0.1339 - val_loss: 0.1442 - val_mse: 0.1442\n",
      "Epoch 54/100\n",
      "1/1 [==============================] - 0s 32ms/step - loss: 0.1338 - mse: 0.1338 - val_loss: 0.1451 - val_mse: 0.1451\n",
      "Epoch 55/100\n",
      "1/1 [==============================] - 0s 32ms/step - loss: 0.1338 - mse: 0.1338 - val_loss: 0.1459 - val_mse: 0.1459\n",
      "Epoch 56/100\n",
      "1/1 [==============================] - 0s 34ms/step - loss: 0.1338 - mse: 0.1338 - val_loss: 0.1467 - val_mse: 0.1467\n",
      "Epoch 57/100\n",
      "1/1 [==============================] - 0s 40ms/step - loss: 0.1339 - mse: 0.1339 - val_loss: 0.1472 - val_mse: 0.1472\n",
      "Epoch 58/100\n",
      "1/1 [==============================] - 0s 55ms/step - loss: 0.1339 - mse: 0.1339 - val_loss: 0.1476 - val_mse: 0.1476\n",
      "Epoch 59/100\n",
      "1/1 [==============================] - 0s 222ms/step - loss: 0.1339 - mse: 0.1339 - val_loss: 0.1478 - val_mse: 0.1478\n",
      "Epoch 60/100\n",
      "1/1 [==============================] - 0s 69ms/step - loss: 0.1339 - mse: 0.1339 - val_loss: 0.1477 - val_mse: 0.1477\n",
      "Epoch 61/100\n",
      "1/1 [==============================] - 0s 56ms/step - loss: 0.1339 - mse: 0.1339 - val_loss: 0.1474 - val_mse: 0.1474\n",
      "Epoch 62/100\n",
      "1/1 [==============================] - 0s 39ms/step - loss: 0.1339 - mse: 0.1339 - val_loss: 0.1470 - val_mse: 0.1470\n",
      "Epoch 63/100\n",
      "1/1 [==============================] - 0s 55ms/step - loss: 0.1339 - mse: 0.1339 - val_loss: 0.1465 - val_mse: 0.1465\n",
      "Epoch 64/100\n",
      "1/1 [==============================] - 0s 60ms/step - loss: 0.1338 - mse: 0.1338 - val_loss: 0.1460 - val_mse: 0.1460\n",
      "Epoch 65/100\n",
      "1/1 [==============================] - 0s 89ms/step - loss: 0.1338 - mse: 0.1338 - val_loss: 0.1454 - val_mse: 0.1454\n",
      "Epoch 66/100\n",
      "1/1 [==============================] - 0s 67ms/step - loss: 0.1338 - mse: 0.1338 - val_loss: 0.1449 - val_mse: 0.1449\n",
      "Epoch 67/100\n",
      "1/1 [==============================] - 0s 224ms/step - loss: 0.1338 - mse: 0.1338 - val_loss: 0.1445 - val_mse: 0.1445\n",
      "Epoch 68/100\n",
      "1/1 [==============================] - 0s 35ms/step - loss: 0.1338 - mse: 0.1338 - val_loss: 0.1442 - val_mse: 0.1442\n",
      "Epoch 69/100\n",
      "1/1 [==============================] - 0s 31ms/step - loss: 0.1338 - mse: 0.1338 - val_loss: 0.1439 - val_mse: 0.1439\n",
      "Epoch 70/100\n",
      "1/1 [==============================] - 0s 43ms/step - loss: 0.1338 - mse: 0.1338 - val_loss: 0.1438 - val_mse: 0.1438\n",
      "Epoch 71/100\n",
      "1/1 [==============================] - 0s 34ms/step - loss: 0.1338 - mse: 0.1338 - val_loss: 0.1439 - val_mse: 0.1439\n",
      "Epoch 72/100\n",
      "1/1 [==============================] - 0s 191ms/step - loss: 0.1338 - mse: 0.1338 - val_loss: 0.1440 - val_mse: 0.1440\n",
      "Epoch 73/100\n",
      "1/1 [==============================] - 0s 25ms/step - loss: 0.1338 - mse: 0.1338 - val_loss: 0.1442 - val_mse: 0.1442\n",
      "Epoch 74/100\n",
      "1/1 [==============================] - 0s 88ms/step - loss: 0.1338 - mse: 0.1338 - val_loss: 0.1444 - val_mse: 0.1444\n",
      "Epoch 75/100\n",
      "1/1 [==============================] - 0s 132ms/step - loss: 0.1338 - mse: 0.1338 - val_loss: 0.1447 - val_mse: 0.1447\n",
      "Epoch 76/100\n",
      "1/1 [==============================] - 0s 26ms/step - loss: 0.1338 - mse: 0.1338 - val_loss: 0.1450 - val_mse: 0.1450\n",
      "Epoch 77/100\n",
      "1/1 [==============================] - 0s 50ms/step - loss: 0.1338 - mse: 0.1338 - val_loss: 0.1453 - val_mse: 0.1453\n",
      "Epoch 78/100\n",
      "1/1 [==============================] - 0s 32ms/step - loss: 0.1338 - mse: 0.1338 - val_loss: 0.1456 - val_mse: 0.1456\n",
      "Epoch 79/100\n",
      "1/1 [==============================] - 0s 62ms/step - loss: 0.1338 - mse: 0.1338 - val_loss: 0.1458 - val_mse: 0.1458\n",
      "Epoch 80/100\n",
      "1/1 [==============================] - 0s 36ms/step - loss: 0.1338 - mse: 0.1338 - val_loss: 0.1459 - val_mse: 0.1459\n",
      "Epoch 81/100\n",
      "1/1 [==============================] - 0s 231ms/step - loss: 0.1338 - mse: 0.1338 - val_loss: 0.1460 - val_mse: 0.1460\n",
      "Epoch 82/100\n",
      "1/1 [==============================] - 0s 44ms/step - loss: 0.1338 - mse: 0.1338 - val_loss: 0.1459 - val_mse: 0.1459\n",
      "Epoch 83/100\n",
      "1/1 [==============================] - 0s 276ms/step - loss: 0.1338 - mse: 0.1338 - val_loss: 0.1459 - val_mse: 0.1459\n",
      "Epoch 84/100\n",
      "1/1 [==============================] - 0s 35ms/step - loss: 0.1338 - mse: 0.1338 - val_loss: 0.1457 - val_mse: 0.1457\n",
      "Epoch 85/100\n",
      "1/1 [==============================] - 0s 209ms/step - loss: 0.1338 - mse: 0.1338 - val_loss: 0.1456 - val_mse: 0.1456\n",
      "Epoch 86/100\n",
      "1/1 [==============================] - 0s 22ms/step - loss: 0.1338 - mse: 0.1338 - val_loss: 0.1454 - val_mse: 0.1454\n",
      "Epoch 87/100\n",
      "1/1 [==============================] - 0s 37ms/step - loss: 0.1338 - mse: 0.1338 - val_loss: 0.1452 - val_mse: 0.1452\n",
      "Epoch 88/100\n",
      "1/1 [==============================] - 0s 25ms/step - loss: 0.1338 - mse: 0.1338 - val_loss: 0.1451 - val_mse: 0.1451\n",
      "Epoch 89/100\n",
      "1/1 [==============================] - 0s 58ms/step - loss: 0.1338 - mse: 0.1338 - val_loss: 0.1449 - val_mse: 0.1449\n",
      "Epoch 90/100\n",
      "1/1 [==============================] - 0s 36ms/step - loss: 0.1338 - mse: 0.1338 - val_loss: 0.1448 - val_mse: 0.1448\n",
      "Epoch 91/100\n",
      "1/1 [==============================] - 0s 111ms/step - loss: 0.1338 - mse: 0.1338 - val_loss: 0.1448 - val_mse: 0.1448\n",
      "Epoch 92/100\n",
      "1/1 [==============================] - 0s 57ms/step - loss: 0.1338 - mse: 0.1338 - val_loss: 0.1448 - val_mse: 0.1448\n",
      "Epoch 93/100\n",
      "1/1 [==============================] - 0s 47ms/step - loss: 0.1338 - mse: 0.1338 - val_loss: 0.1448 - val_mse: 0.1448\n",
      "Epoch 94/100\n",
      "1/1 [==============================] - 0s 47ms/step - loss: 0.1338 - mse: 0.1338 - val_loss: 0.1449 - val_mse: 0.1449\n",
      "Epoch 95/100\n",
      "1/1 [==============================] - 0s 49ms/step - loss: 0.1338 - mse: 0.1338 - val_loss: 0.1450 - val_mse: 0.1450\n",
      "Epoch 96/100\n",
      "1/1 [==============================] - 0s 64ms/step - loss: 0.1338 - mse: 0.1338 - val_loss: 0.1451 - val_mse: 0.1451\n",
      "Epoch 97/100\n",
      "1/1 [==============================] - 0s 255ms/step - loss: 0.1338 - mse: 0.1338 - val_loss: 0.1452 - val_mse: 0.1452\n",
      "Epoch 98/100\n",
      "1/1 [==============================] - 0s 27ms/step - loss: 0.1338 - mse: 0.1338 - val_loss: 0.1453 - val_mse: 0.1453\n",
      "Epoch 99/100\n",
      "1/1 [==============================] - 0s 50ms/step - loss: 0.1338 - mse: 0.1338 - val_loss: 0.1454 - val_mse: 0.1454\n",
      "Epoch 100/100\n",
      "1/1 [==============================] - 0s 196ms/step - loss: 0.1338 - mse: 0.1338 - val_loss: 0.1454 - val_mse: 0.1454\n"
     ]
    }
   ],
   "source": [
    "history = network.fit(X_train, y_train, epochs=epoch, shuffle=True, verbose=1, validation_split= 0.1)"
   ]
  },
  {
   "cell_type": "code",
   "execution_count": 35,
   "metadata": {},
   "outputs": [
    {
     "name": "stdout",
     "output_type": "stream",
     "text": [
      "Test loss: 0.11668304353952408 / mse: 0.11668304353952408\n"
     ]
    }
   ],
   "source": [
    "score = network.evaluate(X_test, y_test, verbose=0)\n",
    "print(f'Test loss: {score[0]} / mse: {score[1]}')"
   ]
  },
  {
   "cell_type": "code",
   "execution_count": 36,
   "metadata": {},
   "outputs": [
    {
     "data": {
      "image/png": "[encoded data removed]",
      "text/plain": [
       "<Figure size 432x288 with 1 Axes>"
      ]
     },
     "metadata": {
      "needs_background": "light"
     },
     "output_type": "display_data"
    }
   ],
   "source": [
    "plt.plot(history.history['mse'])\n",
    "plt.plot(history.history['val_mse'])\n",
    "plt.xlabel(\"Epochs\")\n",
    "plt.ylabel(\"mse\")\n",
    "plt.legend([\"mse\", \"Validation_mse\"])\n",
    "plt.show()"
   ]
  }
 ],
 "metadata": {
  "interpreter": {
   "hash": "7241d452e4e494699ef50a37887ed5c1dce1b126e013039f65d546903dedebae"
  },
  "kernelspec": {
   "display_name": "Python 3.9.7 64-bit",
   "language": "python",
   "name": "python3"
  },
  "language_info": {
   "codemirror_mode": {
    "name": "ipython",
    "version": 3
   },
   "file_extension": ".py",
   "mimetype": "text/x-python",
   "name": "python",
   "nbconvert_exporter": "python",
   "pygments_lexer": "ipython3",
   "version": "3.9.7"
  },
  "orig_nbformat": 4
 },
 "nbformat": 4,
 "nbformat_minor": 2
}
