{
 "cells": [
  {
   "cell_type": "code",
   "execution_count": 55,
   "metadata": {},
   "outputs": [],
   "source": [
    "from keras import models\n",
    "from keras import layers\n",
    "\n",
    "import pandas as pd\n",
    "\n",
    "import matplotlib.pyplot as plt\n",
    "import numpy as np\n",
    "\n",
    "# for confusion matrix (old way)\n",
    "import itertools\n",
    "from sklearn.metrics import confusion_matrix\n",
    "\n",
    "# for confusion matrix (new way)\n",
    "from sklearn.metrics import plot_confusion_matrix\n",
    "\n",
    "import tensorflow as tf"
   ]
  },
  {
   "cell_type": "code",
   "execution_count": 56,
   "metadata": {},
   "outputs": [
    {
     "data": {
      "text/html": [
       "<div>\n",
       "<style scoped>\n",
       "    .dataframe tbody tr th:only-of-type {\n",
       "        vertical-align: middle;\n",
       "    }\n",
       "\n",
       "    .dataframe tbody tr th {\n",
       "        vertical-align: top;\n",
       "    }\n",
       "\n",
       "    .dataframe thead th {\n",
       "        text-align: right;\n",
       "    }\n",
       "</style>\n",
       "<table border=\"1\" class=\"dataframe\">\n",
       "  <thead>\n",
       "    <tr style=\"text-align: right;\">\n",
       "      <th></th>\n",
       "      <th>x1</th>\n",
       "      <th>x2</th>\n",
       "      <th>y</th>\n",
       "    </tr>\n",
       "  </thead>\n",
       "  <tbody>\n",
       "    <tr>\n",
       "      <th>0</th>\n",
       "      <td>10</td>\n",
       "      <td>100</td>\n",
       "      <td>50</td>\n",
       "    </tr>\n",
       "    <tr>\n",
       "      <th>1</th>\n",
       "      <td>20</td>\n",
       "      <td>20</td>\n",
       "      <td>400</td>\n",
       "    </tr>\n",
       "    <tr>\n",
       "      <th>2</th>\n",
       "      <td>30</td>\n",
       "      <td>40</td>\n",
       "      <td>100</td>\n",
       "    </tr>\n",
       "    <tr>\n",
       "      <th>3</th>\n",
       "      <td>40</td>\n",
       "      <td>150</td>\n",
       "      <td>380</td>\n",
       "    </tr>\n",
       "    <tr>\n",
       "      <th>4</th>\n",
       "      <td>50</td>\n",
       "      <td>151</td>\n",
       "      <td>80</td>\n",
       "    </tr>\n",
       "  </tbody>\n",
       "</table>\n",
       "</div>"
      ],
      "text/plain": [
       "   x1   x2    y\n",
       "0  10  100   50\n",
       "1  20   20  400\n",
       "2  30   40  100\n",
       "3  40  150  380\n",
       "4  50  151   80"
      ]
     },
     "execution_count": 56,
     "metadata": {},
     "output_type": "execute_result"
    }
   ],
   "source": [
    "data_set = pd.read_csv(\"reg_data.csv\")\n",
    "data_set.head()"
   ]
  },
  {
   "cell_type": "code",
   "execution_count": 57,
   "metadata": {},
   "outputs": [
    {
     "data": {
      "text/plain": [
       "(30, 3)"
      ]
     },
     "execution_count": 57,
     "metadata": {},
     "output_type": "execute_result"
    }
   ],
   "source": [
    "data_set.shape"
   ]
  },
  {
   "cell_type": "markdown",
   "metadata": {},
   "source": [
    "## Scalling"
   ]
  },
  {
   "cell_type": "code",
   "execution_count": 58,
   "metadata": {},
   "outputs": [],
   "source": [
    "data_set[\"x1\"] = data_set[\"x1\"]/data_set[\"x1\"].max()\n",
    "data_set[\"x2\"] = data_set[\"x2\"]/data_set[\"x2\"].max()\n",
    "data_set[\"y\"] = data_set[\"y\"]/data_set[\"y\"].max()"
   ]
  },
  {
   "cell_type": "code",
   "execution_count": 59,
   "metadata": {},
   "outputs": [
    {
     "data": {
      "text/plain": [
       "0     0.033333\n",
       "1     0.066667\n",
       "2     0.100000\n",
       "3     0.133333\n",
       "4     0.166667\n",
       "5     0.200000\n",
       "6     0.233333\n",
       "7     0.266667\n",
       "8     0.300000\n",
       "9     0.333333\n",
       "10    0.366667\n",
       "11    0.400000\n",
       "12    0.433333\n",
       "13    0.466667\n",
       "14    0.500000\n",
       "15    0.533333\n",
       "16    0.566667\n",
       "17    0.600000\n",
       "18    0.633333\n",
       "19    0.666667\n",
       "20    0.700000\n",
       "21    0.733333\n",
       "22    0.766667\n",
       "23    0.800000\n",
       "24    0.833333\n",
       "25    0.866667\n",
       "26    0.900000\n",
       "27    0.933333\n",
       "28    0.966667\n",
       "29    1.000000\n",
       "Name: x1, dtype: float64"
      ]
     },
     "execution_count": 59,
     "metadata": {},
     "output_type": "execute_result"
    }
   ],
   "source": [
    "data_set[\"x1\"]"
   ]
  },
  {
   "cell_type": "code",
   "execution_count": 60,
   "metadata": {},
   "outputs": [
    {
     "data": {
      "text/plain": [
       "0     0.125\n",
       "1     1.000\n",
       "2     0.250\n",
       "3     0.950\n",
       "4     0.200\n",
       "5     1.000\n",
       "6     0.375\n",
       "7     0.625\n",
       "8     1.000\n",
       "9     0.375\n",
       "10    0.625\n",
       "11    1.000\n",
       "12    0.250\n",
       "13    0.950\n",
       "14    0.200\n",
       "15    0.125\n",
       "16    1.000\n",
       "17    0.250\n",
       "18    0.950\n",
       "19    0.200\n",
       "20    0.625\n",
       "21    1.000\n",
       "22    0.250\n",
       "23    0.950\n",
       "24    0.200\n",
       "25    0.125\n",
       "26    1.000\n",
       "27    0.250\n",
       "28    0.950\n",
       "29    0.200\n",
       "Name: y, dtype: float64"
      ]
     },
     "execution_count": 60,
     "metadata": {},
     "output_type": "execute_result"
    }
   ],
   "source": [
    "data_set[\"y\"]"
   ]
  },
  {
   "cell_type": "code",
   "execution_count": 61,
   "metadata": {},
   "outputs": [],
   "source": [
    "X = data_set[[\"x1\"]].to_numpy()\n",
    "y = data_set[\"y\"].to_numpy()"
   ]
  },
  {
   "cell_type": "code",
   "execution_count": 62,
   "metadata": {},
   "outputs": [
    {
     "name": "stdout",
     "output_type": "stream",
     "text": [
      "(30, 1)\n",
      "(30,)\n"
     ]
    }
   ],
   "source": [
    "print(X.shape)\n",
    "print(y.shape)"
   ]
  },
  {
   "cell_type": "code",
   "execution_count": 63,
   "metadata": {},
   "outputs": [
    {
     "data": {
      "image/png": "[encoded data removed]",
      "text/plain": [
       "<Figure size 432x288 with 1 Axes>"
      ]
     },
     "metadata": {
      "needs_background": "light"
     },
     "output_type": "display_data"
    }
   ],
   "source": [
    "plt.xlabel(\"x\")\n",
    "plt.ylabel(\"y\")\n",
    "plt.plot(data_set[\"x1\"], data_set[\"y\"], color=\"red\")\n",
    "\n",
    "plt.show()"
   ]
  },
  {
   "cell_type": "code",
   "execution_count": 64,
   "metadata": {},
   "outputs": [],
   "source": [
    "from sklearn.model_selection import train_test_split\n",
    "\n",
    "\n",
    "X_train, X_test, y_train, y_test=train_test_split(X,y,test_size=0.2)"
   ]
  },
  {
   "cell_type": "code",
   "execution_count": 65,
   "metadata": {},
   "outputs": [
    {
     "name": "stdout",
     "output_type": "stream",
     "text": [
      "(24, 1)\n",
      "(6, 1)\n",
      "(6,)\n"
     ]
    }
   ],
   "source": [
    "print(X_train.shape)\n",
    "print(X_test.shape)\n",
    "print(y_test.shape)"
   ]
  },
  {
   "cell_type": "markdown",
   "metadata": {},
   "source": [
    "## Paramters"
   ]
  },
  {
   "cell_type": "code",
   "execution_count": 66,
   "metadata": {},
   "outputs": [],
   "source": [
    "epoch = 100\n",
    "activ = [\"sigmoid\", \"tanh\", \"relu\", \"softmax\", \"linear\"]\n",
    "\n",
    "#hidden layers\n",
    "layer_1 = 15\n",
    "layer_2 = 5\n",
    "\n",
    "batch_size = 5"
   ]
  },
  {
   "cell_type": "markdown",
   "metadata": {},
   "source": [
    "## Network"
   ]
  },
  {
   "cell_type": "code",
   "execution_count": 67,
   "metadata": {},
   "outputs": [],
   "source": [
    "network = models.Sequential()\n",
    "\n",
    "network.add(layers.Dense(35, activation=activ[2], input_shape = (1,))) # x1 is our inputs\n",
    "network.add(layers.Dense(25, activation=activ[2]))\n",
    "network.add(layers.Dense(15, activation=activ[2]))\n",
    "\n",
    "# Output Layer\n",
    "network.add(layers.Dense(1, activation=activ[4]))"
   ]
  },
  {
   "cell_type": "code",
   "execution_count": 68,
   "metadata": {},
   "outputs": [
    {
     "name": "stdout",
     "output_type": "stream",
     "text": [
      "Model: \"sequential_3\"\n",
      "_________________________________________________________________\n",
      " Layer (type)                Output Shape              Param #   \n",
      "=================================================================\n",
      " dense_12 (Dense)            (None, 35)                70        \n",
      "                                                                 \n",
      " dense_13 (Dense)            (None, 25)                900       \n",
      "                                                                 \n",
      " dense_14 (Dense)            (None, 15)                390       \n",
      "                                                                 \n",
      " dense_15 (Dense)            (None, 1)                 16        \n",
      "                                                                 \n",
      "=================================================================\n",
      "Total params: 1,376\n",
      "Trainable params: 1,376\n",
      "Non-trainable params: 0\n",
      "_________________________________________________________________\n"
     ]
    }
   ],
   "source": [
    "network.summary()"
   ]
  },
  {
   "cell_type": "code",
   "execution_count": 69,
   "metadata": {},
   "outputs": [],
   "source": [
    "network.compile(loss=\"mean_squared_error\", optimizer=tf.optimizers.Adam(learning_rate=0.1), metrics=[\"mse\"])"
   ]
  },
  {
   "cell_type": "code",
   "execution_count": 70,
   "metadata": {},
   "outputs": [
    {
     "name": "stdout",
     "output_type": "stream",
     "text": [
      "Epoch 1/100\n",
      "1/1 [==============================] - 1s 762ms/step - loss: 0.4020 - mse: 0.4020 - val_loss: 2.1865 - val_mse: 2.1865\n",
      "Epoch 2/100\n",
      "1/1 [==============================] - 0s 30ms/step - loss: 2.4573 - mse: 2.4573 - val_loss: 0.1739 - val_mse: 0.1739\n",
      "Epoch 3/100\n",
      "1/1 [==============================] - 0s 47ms/step - loss: 0.2077 - mse: 0.2077 - val_loss: 0.3921 - val_mse: 0.3921\n",
      "Epoch 4/100\n",
      "1/1 [==============================] - 0s 49ms/step - loss: 0.4304 - mse: 0.4304 - val_loss: 0.2992 - val_mse: 0.2992\n",
      "Epoch 5/100\n",
      "1/1 [==============================] - 0s 40ms/step - loss: 0.3288 - mse: 0.3288 - val_loss: 0.1771 - val_mse: 0.1771\n",
      "Epoch 6/100\n",
      "1/1 [==============================] - 0s 38ms/step - loss: 0.1993 - mse: 0.1993 - val_loss: 0.1162 - val_mse: 0.1162\n",
      "Epoch 7/100\n",
      "1/1 [==============================] - 0s 135ms/step - loss: 0.1289 - mse: 0.1289 - val_loss: 0.2276 - val_mse: 0.2276\n",
      "Epoch 8/100\n",
      "1/1 [==============================] - 0s 97ms/step - loss: 0.2261 - mse: 0.2261 - val_loss: 0.2115 - val_mse: 0.2115\n",
      "Epoch 9/100\n",
      "1/1 [==============================] - 0s 71ms/step - loss: 0.2102 - mse: 0.2102 - val_loss: 0.1397 - val_mse: 0.1397\n",
      "Epoch 10/100\n",
      "1/1 [==============================] - 0s 39ms/step - loss: 0.1457 - mse: 0.1457 - val_loss: 0.1152 - val_mse: 0.1152\n",
      "Epoch 11/100\n",
      "1/1 [==============================] - 0s 62ms/step - loss: 0.1289 - mse: 0.1289 - val_loss: 0.1295 - val_mse: 0.1295\n",
      "Epoch 12/100\n",
      "1/1 [==============================] - 0s 121ms/step - loss: 0.1487 - mse: 0.1487 - val_loss: 0.1443 - val_mse: 0.1443\n",
      "Epoch 13/100\n",
      "1/1 [==============================] - 0s 60ms/step - loss: 0.1659 - mse: 0.1659 - val_loss: 0.1431 - val_mse: 0.1431\n",
      "Epoch 14/100\n",
      "1/1 [==============================] - 0s 57ms/step - loss: 0.1646 - mse: 0.1646 - val_loss: 0.1338 - val_mse: 0.1338\n",
      "Epoch 15/100\n",
      "1/1 [==============================] - 0s 190ms/step - loss: 0.1538 - mse: 0.1538 - val_loss: 0.1221 - val_mse: 0.1221\n",
      "Epoch 16/100\n",
      "1/1 [==============================] - 0s 146ms/step - loss: 0.1396 - mse: 0.1396 - val_loss: 0.1153 - val_mse: 0.1153\n",
      "Epoch 17/100\n",
      "1/1 [==============================] - 0s 276ms/step - loss: 0.1294 - mse: 0.1294 - val_loss: 0.1189 - val_mse: 0.1189\n",
      "Epoch 18/100\n",
      "1/1 [==============================] - 0s 50ms/step - loss: 0.1295 - mse: 0.1295 - val_loss: 0.1303 - val_mse: 0.1303\n",
      "Epoch 19/100\n",
      "1/1 [==============================] - 0s 41ms/step - loss: 0.1379 - mse: 0.1379 - val_loss: 0.1388 - val_mse: 0.1388\n",
      "Epoch 20/100\n",
      "1/1 [==============================] - 0s 49ms/step - loss: 0.1450 - mse: 0.1450 - val_loss: 0.1366 - val_mse: 0.1366\n",
      "Epoch 21/100\n",
      "1/1 [==============================] - 0s 30ms/step - loss: 0.1431 - mse: 0.1431 - val_loss: 0.1267 - val_mse: 0.1267\n",
      "Epoch 22/100\n",
      "1/1 [==============================] - 0s 38ms/step - loss: 0.1351 - mse: 0.1351 - val_loss: 0.1180 - val_mse: 0.1180\n",
      "Epoch 23/100\n",
      "1/1 [==============================] - 0s 55ms/step - loss: 0.1290 - mse: 0.1290 - val_loss: 0.1151 - val_mse: 0.1151\n",
      "Epoch 24/100\n",
      "1/1 [==============================] - 0s 35ms/step - loss: 0.1286 - mse: 0.1286 - val_loss: 0.1168 - val_mse: 0.1168\n",
      "Epoch 25/100\n",
      "1/1 [==============================] - 0s 29ms/step - loss: 0.1323 - mse: 0.1323 - val_loss: 0.1193 - val_mse: 0.1193\n",
      "Epoch 26/100\n",
      "1/1 [==============================] - 0s 237ms/step - loss: 0.1359 - mse: 0.1359 - val_loss: 0.1198 - val_mse: 0.1198\n",
      "Epoch 27/100\n",
      "1/1 [==============================] - 0s 34ms/step - loss: 0.1365 - mse: 0.1365 - val_loss: 0.1180 - val_mse: 0.1180\n",
      "Epoch 28/100\n",
      "1/1 [==============================] - 0s 33ms/step - loss: 0.1340 - mse: 0.1340 - val_loss: 0.1157 - val_mse: 0.1157\n",
      "Epoch 29/100\n",
      "1/1 [==============================] - 0s 30ms/step - loss: 0.1304 - mse: 0.1304 - val_loss: 0.1153 - val_mse: 0.1153\n",
      "Epoch 30/100\n",
      "1/1 [==============================] - 0s 63ms/step - loss: 0.1282 - mse: 0.1282 - val_loss: 0.1175 - val_mse: 0.1175\n",
      "Epoch 31/100\n",
      "1/1 [==============================] - 0s 31ms/step - loss: 0.1287 - mse: 0.1287 - val_loss: 0.1206 - val_mse: 0.1206\n",
      "Epoch 32/100\n",
      "1/1 [==============================] - 0s 51ms/step - loss: 0.1306 - mse: 0.1306 - val_loss: 0.1225 - val_mse: 0.1225\n",
      "Epoch 33/100\n",
      "1/1 [==============================] - 0s 33ms/step - loss: 0.1319 - mse: 0.1319 - val_loss: 0.1219 - val_mse: 0.1219\n",
      "Epoch 34/100\n",
      "1/1 [==============================] - 0s 46ms/step - loss: 0.1315 - mse: 0.1315 - val_loss: 0.1195 - val_mse: 0.1195\n",
      "Epoch 35/100\n",
      "1/1 [==============================] - 0s 32ms/step - loss: 0.1299 - mse: 0.1299 - val_loss: 0.1169 - val_mse: 0.1169\n",
      "Epoch 36/100\n",
      "1/1 [==============================] - 0s 36ms/step - loss: 0.1284 - mse: 0.1284 - val_loss: 0.1155 - val_mse: 0.1155\n",
      "Epoch 37/100\n",
      "1/1 [==============================] - 0s 39ms/step - loss: 0.1281 - mse: 0.1281 - val_loss: 0.1151 - val_mse: 0.1151\n",
      "Epoch 38/100\n",
      "1/1 [==============================] - 0s 49ms/step - loss: 0.1288 - mse: 0.1288 - val_loss: 0.1154 - val_mse: 0.1154\n",
      "Epoch 39/100\n",
      "1/1 [==============================] - 0s 34ms/step - loss: 0.1297 - mse: 0.1297 - val_loss: 0.1155 - val_mse: 0.1155\n",
      "Epoch 40/100\n",
      "1/1 [==============================] - ETA: 0s - loss: 0.1300 - mse: 0.130 - 0s 46ms/step - loss: 0.1300 - mse: 0.1300 - val_loss: 0.1154 - val_mse: 0.1154\n",
      "Epoch 41/100\n",
      "1/1 [==============================] - 0s 64ms/step - loss: 0.1296 - mse: 0.1296 - val_loss: 0.1151 - val_mse: 0.1151\n",
      "Epoch 42/100\n",
      "1/1 [==============================] - 0s 85ms/step - loss: 0.1288 - mse: 0.1288 - val_loss: 0.1153 - val_mse: 0.1153\n",
      "Epoch 43/100\n",
      "1/1 [==============================] - 0s 63ms/step - loss: 0.1282 - mse: 0.1282 - val_loss: 0.1161 - val_mse: 0.1161\n",
      "Epoch 44/100\n",
      "1/1 [==============================] - 0s 42ms/step - loss: 0.1281 - mse: 0.1281 - val_loss: 0.1172 - val_mse: 0.1172\n",
      "Epoch 45/100\n",
      "1/1 [==============================] - 0s 40ms/step - loss: 0.1285 - mse: 0.1285 - val_loss: 0.1180 - val_mse: 0.1180\n",
      "Epoch 46/100\n",
      "1/1 [==============================] - 0s 35ms/step - loss: 0.1290 - mse: 0.1290 - val_loss: 0.1181 - val_mse: 0.1181\n",
      "Epoch 47/100\n",
      "1/1 [==============================] - 0s 35ms/step - loss: 0.1290 - mse: 0.1290 - val_loss: 0.1175 - val_mse: 0.1175\n",
      "Epoch 48/100\n",
      "1/1 [==============================] - 0s 47ms/step - loss: 0.1287 - mse: 0.1287 - val_loss: 0.1165 - val_mse: 0.1165\n",
      "Epoch 49/100\n",
      "1/1 [==============================] - 0s 28ms/step - loss: 0.1282 - mse: 0.1282 - val_loss: 0.1157 - val_mse: 0.1157\n",
      "Epoch 50/100\n",
      "1/1 [==============================] - 0s 38ms/step - loss: 0.1281 - mse: 0.1281 - val_loss: 0.1153 - val_mse: 0.1153\n",
      "Epoch 51/100\n",
      "1/1 [==============================] - 0s 50ms/step - loss: 0.1282 - mse: 0.1282 - val_loss: 0.1152 - val_mse: 0.1152\n",
      "Epoch 52/100\n",
      "1/1 [==============================] - 0s 34ms/step - loss: 0.1284 - mse: 0.1284 - val_loss: 0.1151 - val_mse: 0.1151\n",
      "Epoch 53/100\n",
      "1/1 [==============================] - 0s 32ms/step - loss: 0.1286 - mse: 0.1286 - val_loss: 0.1152 - val_mse: 0.1152\n",
      "Epoch 54/100\n",
      "1/1 [==============================] - 0s 57ms/step - loss: 0.1285 - mse: 0.1285 - val_loss: 0.1152 - val_mse: 0.1152\n",
      "Epoch 55/100\n",
      "1/1 [==============================] - 0s 80ms/step - loss: 0.1283 - mse: 0.1283 - val_loss: 0.1155 - val_mse: 0.1155\n",
      "Epoch 56/100\n",
      "1/1 [==============================] - 0s 104ms/step - loss: 0.1281 - mse: 0.1281 - val_loss: 0.1159 - val_mse: 0.1159\n",
      "Epoch 57/100\n",
      "1/1 [==============================] - 0s 318ms/step - loss: 0.1281 - mse: 0.1281 - val_loss: 0.1164 - val_mse: 0.1164\n",
      "Epoch 58/100\n",
      "1/1 [==============================] - 0s 38ms/step - loss: 0.1282 - mse: 0.1282 - val_loss: 0.1167 - val_mse: 0.1167\n",
      "Epoch 59/100\n",
      "1/1 [==============================] - 0s 49ms/step - loss: 0.1283 - mse: 0.1283 - val_loss: 0.1167 - val_mse: 0.1167\n",
      "Epoch 60/100\n",
      "1/1 [==============================] - 0s 32ms/step - loss: 0.1283 - mse: 0.1283 - val_loss: 0.1164 - val_mse: 0.1164\n",
      "Epoch 61/100\n",
      "1/1 [==============================] - 0s 37ms/step - loss: 0.1282 - mse: 0.1282 - val_loss: 0.1160 - val_mse: 0.1160\n",
      "Epoch 62/100\n",
      "1/1 [==============================] - 0s 34ms/step - loss: 0.1281 - mse: 0.1281 - val_loss: 0.1156 - val_mse: 0.1156\n",
      "Epoch 63/100\n",
      "1/1 [==============================] - 0s 47ms/step - loss: 0.1281 - mse: 0.1281 - val_loss: 0.1154 - val_mse: 0.1154\n",
      "Epoch 64/100\n",
      "1/1 [==============================] - 0s 38ms/step - loss: 0.1281 - mse: 0.1281 - val_loss: 0.1153 - val_mse: 0.1153\n",
      "Epoch 65/100\n",
      "1/1 [==============================] - 0s 90ms/step - loss: 0.1282 - mse: 0.1282 - val_loss: 0.1153 - val_mse: 0.1153\n",
      "Epoch 66/100\n",
      "1/1 [==============================] - 0s 79ms/step - loss: 0.1282 - mse: 0.1282 - val_loss: 0.1153 - val_mse: 0.1153\n",
      "Epoch 67/100\n",
      "1/1 [==============================] - 0s 50ms/step - loss: 0.1282 - mse: 0.1282 - val_loss: 0.1155 - val_mse: 0.1155\n",
      "Epoch 68/100\n",
      "1/1 [==============================] - 0s 26ms/step - loss: 0.1281 - mse: 0.1281 - val_loss: 0.1157 - val_mse: 0.1157\n",
      "Epoch 69/100\n",
      "1/1 [==============================] - 0s 49ms/step - loss: 0.1281 - mse: 0.1281 - val_loss: 0.1160 - val_mse: 0.1160\n",
      "Epoch 70/100\n",
      "1/1 [==============================] - 0s 45ms/step - loss: 0.1281 - mse: 0.1281 - val_loss: 0.1162 - val_mse: 0.1162\n",
      "Epoch 71/100\n",
      "1/1 [==============================] - 0s 29ms/step - loss: 0.1281 - mse: 0.1281 - val_loss: 0.1162 - val_mse: 0.1162\n",
      "Epoch 72/100\n",
      "1/1 [==============================] - 0s 40ms/step - loss: 0.1281 - mse: 0.1281 - val_loss: 0.1161 - val_mse: 0.1161\n",
      "Epoch 73/100\n",
      "1/1 [==============================] - 0s 51ms/step - loss: 0.1281 - mse: 0.1281 - val_loss: 0.1159 - val_mse: 0.1159\n",
      "Epoch 74/100\n",
      "1/1 [==============================] - 0s 32ms/step - loss: 0.1281 - mse: 0.1281 - val_loss: 0.1157 - val_mse: 0.1157\n",
      "Epoch 75/100\n",
      "1/1 [==============================] - 0s 38ms/step - loss: 0.1281 - mse: 0.1281 - val_loss: 0.1155 - val_mse: 0.1155\n",
      "Epoch 76/100\n",
      "1/1 [==============================] - 0s 52ms/step - loss: 0.1281 - mse: 0.1281 - val_loss: 0.1155 - val_mse: 0.1155\n",
      "Epoch 77/100\n",
      "1/1 [==============================] - 0s 37ms/step - loss: 0.1281 - mse: 0.1281 - val_loss: 0.1154 - val_mse: 0.1154\n",
      "Epoch 78/100\n",
      "1/1 [==============================] - 0s 91ms/step - loss: 0.1281 - mse: 0.1281 - val_loss: 0.1155 - val_mse: 0.1155\n",
      "Epoch 79/100\n",
      "1/1 [==============================] - 0s 90ms/step - loss: 0.1281 - mse: 0.1281 - val_loss: 0.1156 - val_mse: 0.1156\n",
      "Epoch 80/100\n",
      "1/1 [==============================] - 0s 44ms/step - loss: 0.1281 - mse: 0.1281 - val_loss: 0.1157 - val_mse: 0.1157\n",
      "Epoch 81/100\n",
      "1/1 [==============================] - 0s 26ms/step - loss: 0.1281 - mse: 0.1281 - val_loss: 0.1159 - val_mse: 0.1159\n",
      "Epoch 82/100\n",
      "1/1 [==============================] - 0s 39ms/step - loss: 0.1281 - mse: 0.1281 - val_loss: 0.1159 - val_mse: 0.1159\n",
      "Epoch 83/100\n",
      "1/1 [==============================] - 0s 33ms/step - loss: 0.1281 - mse: 0.1281 - val_loss: 0.1159 - val_mse: 0.1159\n",
      "Epoch 84/100\n",
      "1/1 [==============================] - 0s 48ms/step - loss: 0.1281 - mse: 0.1281 - val_loss: 0.1159 - val_mse: 0.1159\n",
      "Epoch 85/100\n",
      "1/1 [==============================] - 0s 32ms/step - loss: 0.1281 - mse: 0.1281 - val_loss: 0.1158 - val_mse: 0.1158\n",
      "Epoch 86/100\n",
      "1/1 [==============================] - 0s 39ms/step - loss: 0.1281 - mse: 0.1281 - val_loss: 0.1157 - val_mse: 0.1157\n",
      "Epoch 87/100\n",
      "1/1 [==============================] - 0s 47ms/step - loss: 0.1281 - mse: 0.1281 - val_loss: 0.1156 - val_mse: 0.1156\n",
      "Epoch 88/100\n",
      "1/1 [==============================] - 0s 31ms/step - loss: 0.1281 - mse: 0.1281 - val_loss: 0.1156 - val_mse: 0.1156\n",
      "Epoch 89/100\n",
      "1/1 [==============================] - 0s 39ms/step - loss: 0.1281 - mse: 0.1281 - val_loss: 0.1156 - val_mse: 0.1156\n",
      "Epoch 90/100\n",
      "1/1 [==============================] - 0s 24ms/step - loss: 0.1281 - mse: 0.1281 - val_loss: 0.1156 - val_mse: 0.1156\n",
      "Epoch 91/100\n",
      "1/1 [==============================] - 0s 62ms/step - loss: 0.1281 - mse: 0.1281 - val_loss: 0.1157 - val_mse: 0.1157\n",
      "Epoch 92/100\n",
      "1/1 [==============================] - 0s 72ms/step - loss: 0.1281 - mse: 0.1281 - val_loss: 0.1158 - val_mse: 0.1158\n",
      "Epoch 93/100\n",
      "1/1 [==============================] - 0s 81ms/step - loss: 0.1281 - mse: 0.1281 - val_loss: 0.1158 - val_mse: 0.1158\n",
      "Epoch 94/100\n",
      "1/1 [==============================] - 0s 82ms/step - loss: 0.1281 - mse: 0.1281 - val_loss: 0.1158 - val_mse: 0.1158\n",
      "Epoch 95/100\n",
      "1/1 [==============================] - 0s 46ms/step - loss: 0.1281 - mse: 0.1281 - val_loss: 0.1158 - val_mse: 0.1158\n",
      "Epoch 96/100\n",
      "1/1 [==============================] - 0s 45ms/step - loss: 0.1281 - mse: 0.1281 - val_loss: 0.1158 - val_mse: 0.1158\n",
      "Epoch 97/100\n",
      "1/1 [==============================] - 0s 116ms/step - loss: 0.1281 - mse: 0.1281 - val_loss: 0.1157 - val_mse: 0.1157\n",
      "Epoch 98/100\n",
      "1/1 [==============================] - 0s 94ms/step - loss: 0.1281 - mse: 0.1281 - val_loss: 0.1156 - val_mse: 0.1156\n",
      "Epoch 99/100\n",
      "1/1 [==============================] - 0s 217ms/step - loss: 0.1281 - mse: 0.1281 - val_loss: 0.1156 - val_mse: 0.1156\n",
      "Epoch 100/100\n",
      "1/1 [==============================] - 0s 108ms/step - loss: 0.1281 - mse: 0.1281 - val_loss: 0.1156 - val_mse: 0.1156\n"
     ]
    }
   ],
   "source": [
    "history = network.fit(X_train, y_train, epochs=epoch, shuffle=True, verbose=1, validation_split= 0.1)"
   ]
  },
  {
   "cell_type": "code",
   "execution_count": 71,
   "metadata": {},
   "outputs": [
    {
     "name": "stdout",
     "output_type": "stream",
     "text": [
      "Test loss: 0.14495885372161865 / mse: 0.14495885372161865\n"
     ]
    }
   ],
   "source": [
    "score = network.evaluate(X_test, y_test, verbose=0)\n",
    "print(f'Test loss: {score[0]} / mse: {score[1]}')"
   ]
  },
  {
   "cell_type": "code",
   "execution_count": 72,
   "metadata": {},
   "outputs": [
    {
     "data": {
      "image/png": "[encoded data removed]",
      "text/plain": [
       "<Figure size 432x288 with 1 Axes>"
      ]
     },
     "metadata": {
      "needs_background": "light"
     },
     "output_type": "display_data"
    }
   ],
   "source": [
    "plt.plot(history.history['mse'])\n",
    "plt.plot(history.history['val_mse'])\n",
    "plt.xlabel(\"Epochs\")\n",
    "plt.ylabel(\"mse\")\n",
    "plt.legend([\"mse\", \"Validation_mse\"])\n",
    "plt.show()"
   ]
  },
  {
   "cell_type": "markdown",
   "metadata": {},
   "source": [
    "# Prediction: if the accuracy is above 80 percent"
   ]
  },
  {
   "cell_type": "markdown",
   "metadata": {},
   "source": [
    "# Save the model"
   ]
  }
 ],
 "metadata": {
  "interpreter": {
   "hash": "7241d452e4e494699ef50a37887ed5c1dce1b126e013039f65d546903dedebae"
  },
  "kernelspec": {
   "display_name": "Python 3.9.7 64-bit",
   "language": "python",
   "name": "python3"
  },
  "language_info": {
   "codemirror_mode": {
    "name": "ipython",
    "version": 3
   },
   "file_extension": ".py",
   "mimetype": "text/x-python",
   "name": "python",
   "nbconvert_exporter": "python",
   "pygments_lexer": "ipython3",
   "version": "3.9.7"
  },
  "orig_nbformat": 4
 },
 "nbformat": 4,
 "nbformat_minor": 2
}
