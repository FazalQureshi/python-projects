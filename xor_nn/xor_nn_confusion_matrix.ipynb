{
 "cells": [
  {
   "cell_type": "code",
   "execution_count": 263,
   "metadata": {},
   "outputs": [],
   "source": [
    "from keras import models\n",
    "from keras import layers\n",
    "\n",
    "import pandas as pd\n",
    "\n",
    "import matplotlib.pyplot as plt\n",
    "import numpy as np\n",
    "\n",
    "# for confusion matrix (old way)\n",
    "import itertools\n",
    "from sklearn.metrics import confusion_matrix\n",
    "\n",
    "# for confusion matrix (new way)\n",
    "from sklearn.metrics import plot_confusion_matrix"
   ]
  },
  {
   "cell_type": "code",
   "execution_count": 264,
   "metadata": {},
   "outputs": [
    {
     "data": {
      "text/html": [
       "<div>\n",
       "<style scoped>\n",
       "    .dataframe tbody tr th:only-of-type {\n",
       "        vertical-align: middle;\n",
       "    }\n",
       "\n",
       "    .dataframe tbody tr th {\n",
       "        vertical-align: top;\n",
       "    }\n",
       "\n",
       "    .dataframe thead th {\n",
       "        text-align: right;\n",
       "    }\n",
       "</style>\n",
       "<table border=\"1\" class=\"dataframe\">\n",
       "  <thead>\n",
       "    <tr style=\"text-align: right;\">\n",
       "      <th></th>\n",
       "      <th>x1</th>\n",
       "      <th>x2</th>\n",
       "      <th>y</th>\n",
       "    </tr>\n",
       "  </thead>\n",
       "  <tbody>\n",
       "    <tr>\n",
       "      <th>0</th>\n",
       "      <td>0</td>\n",
       "      <td>0</td>\n",
       "      <td>0</td>\n",
       "    </tr>\n",
       "    <tr>\n",
       "      <th>1</th>\n",
       "      <td>0</td>\n",
       "      <td>1</td>\n",
       "      <td>1</td>\n",
       "    </tr>\n",
       "    <tr>\n",
       "      <th>2</th>\n",
       "      <td>1</td>\n",
       "      <td>0</td>\n",
       "      <td>1</td>\n",
       "    </tr>\n",
       "    <tr>\n",
       "      <th>3</th>\n",
       "      <td>1</td>\n",
       "      <td>1</td>\n",
       "      <td>0</td>\n",
       "    </tr>\n",
       "    <tr>\n",
       "      <th>4</th>\n",
       "      <td>0</td>\n",
       "      <td>0</td>\n",
       "      <td>0</td>\n",
       "    </tr>\n",
       "  </tbody>\n",
       "</table>\n",
       "</div>"
      ],
      "text/plain": [
       "   x1  x2  y\n",
       "0   0   0  0\n",
       "1   0   1  1\n",
       "2   1   0  1\n",
       "3   1   1  0\n",
       "4   0   0  0"
      ]
     },
     "execution_count": 264,
     "metadata": {},
     "output_type": "execute_result"
    }
   ],
   "source": [
    "data_set = pd.read_csv(\"xor_data.csv\")\n",
    "data_set.head()"
   ]
  },
  {
   "cell_type": "code",
   "execution_count": 265,
   "metadata": {},
   "outputs": [
    {
     "data": {
      "text/plain": [
       "(800, 3)"
      ]
     },
     "execution_count": 265,
     "metadata": {},
     "output_type": "execute_result"
    }
   ],
   "source": [
    "data_set.shape"
   ]
  },
  {
   "cell_type": "markdown",
   "metadata": {},
   "source": [
    "## Splitting"
   ]
  },
  {
   "cell_type": "code",
   "execution_count": 266,
   "metadata": {},
   "outputs": [],
   "source": [
    "X = data_set[[\"x1\", \"x2\"]].to_numpy()\n",
    "y = data_set[\"y\"].to_numpy()"
   ]
  },
  {
   "cell_type": "code",
   "execution_count": 267,
   "metadata": {},
   "outputs": [
    {
     "name": "stdout",
     "output_type": "stream",
     "text": [
      "(800, 2)\n",
      "(800,)\n"
     ]
    }
   ],
   "source": [
    "print(X.shape)\n",
    "print(y.shape)"
   ]
  },
  {
   "cell_type": "code",
   "execution_count": 268,
   "metadata": {},
   "outputs": [],
   "source": [
    "from sklearn.model_selection import train_test_split\n",
    "\n",
    "\n",
    "X_train, X_test, y_train, y_test=train_test_split(X,y,test_size=0.2)"
   ]
  },
  {
   "cell_type": "code",
   "execution_count": 269,
   "metadata": {},
   "outputs": [
    {
     "name": "stdout",
     "output_type": "stream",
     "text": [
      "(640, 2)\n",
      "(160, 2)\n"
     ]
    }
   ],
   "source": [
    "print(X_train.shape)\n",
    "print(X_test.shape)"
   ]
  },
  {
   "cell_type": "code",
   "execution_count": 270,
   "metadata": {},
   "outputs": [
    {
     "data": {
      "text/plain": [
       "array([[1, 0],\n",
       "       [0, 0],\n",
       "       [0, 0],\n",
       "       [1, 1],\n",
       "       [1, 1],\n",
       "       [1, 0],\n",
       "       [0, 0],\n",
       "       [1, 1],\n",
       "       [0, 0],\n",
       "       [0, 1],\n",
       "       [1, 0],\n",
       "       [1, 1],\n",
       "       [1, 0],\n",
       "       [0, 1],\n",
       "       [0, 1],\n",
       "       [0, 0],\n",
       "       [0, 1],\n",
       "       [0, 1],\n",
       "       [1, 0],\n",
       "       [0, 1],\n",
       "       [0, 0],\n",
       "       [1, 0],\n",
       "       [0, 1],\n",
       "       [1, 0],\n",
       "       [0, 0],\n",
       "       [0, 1],\n",
       "       [1, 0],\n",
       "       [1, 1],\n",
       "       [0, 0],\n",
       "       [1, 0],\n",
       "       [1, 0],\n",
       "       [1, 0],\n",
       "       [1, 1],\n",
       "       [0, 0],\n",
       "       [0, 1],\n",
       "       [0, 1],\n",
       "       [0, 0],\n",
       "       [0, 1],\n",
       "       [1, 0],\n",
       "       [1, 1],\n",
       "       [1, 1],\n",
       "       [1, 0],\n",
       "       [1, 0],\n",
       "       [1, 1],\n",
       "       [0, 0],\n",
       "       [1, 1],\n",
       "       [0, 0],\n",
       "       [1, 1],\n",
       "       [0, 0],\n",
       "       [1, 1],\n",
       "       [1, 1],\n",
       "       [1, 1],\n",
       "       [0, 1],\n",
       "       [1, 0],\n",
       "       [0, 0],\n",
       "       [1, 1],\n",
       "       [1, 1],\n",
       "       [1, 0],\n",
       "       [0, 0],\n",
       "       [0, 0],\n",
       "       [1, 0],\n",
       "       [0, 1],\n",
       "       [1, 0],\n",
       "       [1, 1],\n",
       "       [0, 0],\n",
       "       [0, 1],\n",
       "       [0, 1],\n",
       "       [0, 1],\n",
       "       [0, 1],\n",
       "       [0, 0],\n",
       "       [0, 0],\n",
       "       [1, 1],\n",
       "       [1, 1],\n",
       "       [0, 1],\n",
       "       [0, 0],\n",
       "       [0, 0],\n",
       "       [1, 0],\n",
       "       [0, 1],\n",
       "       [0, 1],\n",
       "       [1, 0],\n",
       "       [0, 1],\n",
       "       [1, 0],\n",
       "       [0, 0],\n",
       "       [1, 0],\n",
       "       [1, 1],\n",
       "       [1, 0],\n",
       "       [1, 1],\n",
       "       [0, 0],\n",
       "       [0, 1],\n",
       "       [0, 0],\n",
       "       [0, 0],\n",
       "       [0, 0],\n",
       "       [1, 1],\n",
       "       [1, 0],\n",
       "       [1, 1],\n",
       "       [1, 0],\n",
       "       [1, 1],\n",
       "       [1, 0],\n",
       "       [0, 0],\n",
       "       [1, 0],\n",
       "       [1, 0],\n",
       "       [0, 1],\n",
       "       [0, 0],\n",
       "       [0, 1],\n",
       "       [1, 0],\n",
       "       [0, 1],\n",
       "       [0, 1],\n",
       "       [1, 1],\n",
       "       [0, 0],\n",
       "       [1, 0],\n",
       "       [1, 0],\n",
       "       [1, 0],\n",
       "       [1, 1],\n",
       "       [1, 0],\n",
       "       [0, 1],\n",
       "       [0, 0],\n",
       "       [1, 0],\n",
       "       [0, 0],\n",
       "       [0, 0],\n",
       "       [1, 1],\n",
       "       [1, 1],\n",
       "       [0, 1],\n",
       "       [0, 1],\n",
       "       [1, 0],\n",
       "       [0, 1],\n",
       "       [1, 0],\n",
       "       [1, 1],\n",
       "       [0, 0],\n",
       "       [0, 0],\n",
       "       [1, 0],\n",
       "       [1, 1],\n",
       "       [0, 1],\n",
       "       [0, 1],\n",
       "       [1, 0],\n",
       "       [1, 0],\n",
       "       [1, 0],\n",
       "       [0, 0],\n",
       "       [0, 0],\n",
       "       [1, 0],\n",
       "       [0, 0],\n",
       "       [1, 0],\n",
       "       [0, 1],\n",
       "       [1, 1],\n",
       "       [0, 1],\n",
       "       [0, 1],\n",
       "       [0, 0],\n",
       "       [1, 1],\n",
       "       [1, 1],\n",
       "       [0, 0],\n",
       "       [1, 0],\n",
       "       [0, 0],\n",
       "       [0, 1],\n",
       "       [1, 1],\n",
       "       [1, 0],\n",
       "       [0, 0],\n",
       "       [0, 1],\n",
       "       [1, 1],\n",
       "       [0, 1],\n",
       "       [0, 0],\n",
       "       [1, 1]], dtype=int64)"
      ]
     },
     "execution_count": 270,
     "metadata": {},
     "output_type": "execute_result"
    }
   ],
   "source": [
    "X_test"
   ]
  },
  {
   "cell_type": "markdown",
   "metadata": {},
   "source": [
    "## Parameters"
   ]
  },
  {
   "cell_type": "code",
   "execution_count": 271,
   "metadata": {},
   "outputs": [],
   "source": [
    "epoch = 100\n",
    "activ = [\"sigmoid\", \"relu\", \"softmax\"]\n",
    "\n",
    "#hidden layers\n",
    "layer_1 = 15\n",
    "layer_2 = 10"
   ]
  },
  {
   "cell_type": "markdown",
   "metadata": {},
   "source": [
    "## Network"
   ]
  },
  {
   "cell_type": "code",
   "execution_count": 272,
   "metadata": {},
   "outputs": [],
   "source": [
    "network = models.Sequential()\n",
    "\n",
    "network.add(layers.Dense(layer_1, activation=activ[1], input_shape = (2,)))\n",
    "network.add(layers.Dense(layer_2, activation=activ[0]))\n",
    "\n",
    "# Output Layer\n",
    "network.add(layers.Dense(1, activation=activ[0]))"
   ]
  },
  {
   "cell_type": "code",
   "execution_count": 273,
   "metadata": {},
   "outputs": [
    {
     "name": "stdout",
     "output_type": "stream",
     "text": [
      "Model: \"sequential_14\"\n",
      "_________________________________________________________________\n",
      " Layer (type)                Output Shape              Param #   \n",
      "=================================================================\n",
      " dense_42 (Dense)            (None, 15)                45        \n",
      "                                                                 \n",
      " dense_43 (Dense)            (None, 10)                160       \n",
      "                                                                 \n",
      " dense_44 (Dense)            (None, 1)                 11        \n",
      "                                                                 \n",
      "=================================================================\n",
      "Total params: 216\n",
      "Trainable params: 216\n",
      "Non-trainable params: 0\n",
      "_________________________________________________________________\n"
     ]
    }
   ],
   "source": [
    "network.summary()"
   ]
  },
  {
   "cell_type": "code",
   "execution_count": 274,
   "metadata": {},
   "outputs": [],
   "source": [
    "network.compile(loss='binary_crossentropy', optimizer='rmsprop', metrics=['accuracy'])"
   ]
  },
  {
   "cell_type": "code",
   "execution_count": 275,
   "metadata": {},
   "outputs": [
    {
     "name": "stdout",
     "output_type": "stream",
     "text": [
      "Epoch 1/100\n",
      "18/18 [==============================] - 1s 8ms/step - loss: 0.7059 - accuracy: 0.4965 - val_loss: 0.6988 - val_accuracy: 0.5000\n",
      "Epoch 2/100\n",
      "18/18 [==============================] - 0s 2ms/step - loss: 0.6939 - accuracy: 0.4965 - val_loss: 0.6895 - val_accuracy: 0.5000\n",
      "Epoch 3/100\n",
      "18/18 [==============================] - 0s 2ms/step - loss: 0.6862 - accuracy: 0.4965 - val_loss: 0.6828 - val_accuracy: 0.5000\n",
      "Epoch 4/100\n",
      "18/18 [==============================] - 0s 2ms/step - loss: 0.6808 - accuracy: 0.4965 - val_loss: 0.6778 - val_accuracy: 0.5000\n",
      "Epoch 5/100\n",
      "18/18 [==============================] - 0s 2ms/step - loss: 0.6759 - accuracy: 0.6424 - val_loss: 0.6726 - val_accuracy: 0.7812\n",
      "Epoch 6/100\n",
      "18/18 [==============================] - 0s 2ms/step - loss: 0.6712 - accuracy: 0.7500 - val_loss: 0.6676 - val_accuracy: 0.7812\n",
      "Epoch 7/100\n",
      "18/18 [==============================] - 0s 2ms/step - loss: 0.6662 - accuracy: 0.7674 - val_loss: 0.6622 - val_accuracy: 0.7812\n",
      "Epoch 8/100\n",
      "18/18 [==============================] - 0s 3ms/step - loss: 0.6609 - accuracy: 0.7951 - val_loss: 0.6566 - val_accuracy: 1.0000\n",
      "Epoch 9/100\n",
      "18/18 [==============================] - 0s 2ms/step - loss: 0.6553 - accuracy: 0.9323 - val_loss: 0.6506 - val_accuracy: 1.0000\n",
      "Epoch 10/100\n",
      "18/18 [==============================] - 0s 2ms/step - loss: 0.6492 - accuracy: 1.0000 - val_loss: 0.6442 - val_accuracy: 1.0000\n",
      "Epoch 11/100\n",
      "18/18 [==============================] - 0s 3ms/step - loss: 0.6430 - accuracy: 1.0000 - val_loss: 0.6376 - val_accuracy: 1.0000\n",
      "Epoch 12/100\n",
      "18/18 [==============================] - 0s 2ms/step - loss: 0.6361 - accuracy: 1.0000 - val_loss: 0.6302 - val_accuracy: 1.0000\n",
      "Epoch 13/100\n",
      "18/18 [==============================] - 0s 2ms/step - loss: 0.6293 - accuracy: 1.0000 - val_loss: 0.6229 - val_accuracy: 1.0000\n",
      "Epoch 14/100\n",
      "18/18 [==============================] - 0s 2ms/step - loss: 0.6216 - accuracy: 1.0000 - val_loss: 0.6149 - val_accuracy: 1.0000\n",
      "Epoch 15/100\n",
      "18/18 [==============================] - 0s 2ms/step - loss: 0.6137 - accuracy: 1.0000 - val_loss: 0.6065 - val_accuracy: 1.0000\n",
      "Epoch 16/100\n",
      "18/18 [==============================] - 0s 2ms/step - loss: 0.6054 - accuracy: 1.0000 - val_loss: 0.5978 - val_accuracy: 1.0000\n",
      "Epoch 17/100\n",
      "18/18 [==============================] - 0s 2ms/step - loss: 0.5970 - accuracy: 1.0000 - val_loss: 0.5889 - val_accuracy: 1.0000\n",
      "Epoch 18/100\n",
      "18/18 [==============================] - 0s 3ms/step - loss: 0.5878 - accuracy: 1.0000 - val_loss: 0.5794 - val_accuracy: 1.0000\n",
      "Epoch 19/100\n",
      "18/18 [==============================] - 0s 2ms/step - loss: 0.5781 - accuracy: 1.0000 - val_loss: 0.5691 - val_accuracy: 1.0000\n",
      "Epoch 20/100\n",
      "18/18 [==============================] - 0s 2ms/step - loss: 0.5676 - accuracy: 1.0000 - val_loss: 0.5581 - val_accuracy: 1.0000\n",
      "Epoch 21/100\n",
      "18/18 [==============================] - 0s 3ms/step - loss: 0.5565 - accuracy: 1.0000 - val_loss: 0.5464 - val_accuracy: 1.0000\n",
      "Epoch 22/100\n",
      "18/18 [==============================] - 0s 2ms/step - loss: 0.5450 - accuracy: 1.0000 - val_loss: 0.5345 - val_accuracy: 1.0000\n",
      "Epoch 23/100\n",
      "18/18 [==============================] - 0s 2ms/step - loss: 0.5331 - accuracy: 1.0000 - val_loss: 0.5223 - val_accuracy: 1.0000\n",
      "Epoch 24/100\n",
      "18/18 [==============================] - 0s 2ms/step - loss: 0.5207 - accuracy: 1.0000 - val_loss: 0.5094 - val_accuracy: 1.0000\n",
      "Epoch 25/100\n",
      "18/18 [==============================] - 0s 3ms/step - loss: 0.5079 - accuracy: 1.0000 - val_loss: 0.4961 - val_accuracy: 1.0000\n",
      "Epoch 26/100\n",
      "18/18 [==============================] - 0s 2ms/step - loss: 0.4948 - accuracy: 1.0000 - val_loss: 0.4828 - val_accuracy: 1.0000\n",
      "Epoch 27/100\n",
      "18/18 [==============================] - 0s 1ms/step - loss: 0.4813 - accuracy: 1.0000 - val_loss: 0.4688 - val_accuracy: 1.0000\n",
      "Epoch 28/100\n",
      "18/18 [==============================] - 0s 3ms/step - loss: 0.4674 - accuracy: 1.0000 - val_loss: 0.4546 - val_accuracy: 1.0000\n",
      "Epoch 29/100\n",
      "18/18 [==============================] - 0s 1ms/step - loss: 0.4528 - accuracy: 1.0000 - val_loss: 0.4395 - val_accuracy: 1.0000\n",
      "Epoch 30/100\n",
      "18/18 [==============================] - 0s 798us/step - loss: 0.4376 - accuracy: 1.0000 - val_loss: 0.4238 - val_accuracy: 1.0000\n",
      "Epoch 31/100\n",
      "18/18 [==============================] - 0s 3ms/step - loss: 0.4222 - accuracy: 1.0000 - val_loss: 0.4085 - val_accuracy: 1.0000\n",
      "Epoch 32/100\n",
      "18/18 [==============================] - 0s 2ms/step - loss: 0.4067 - accuracy: 1.0000 - val_loss: 0.3927 - val_accuracy: 1.0000\n",
      "Epoch 33/100\n",
      "18/18 [==============================] - 0s 1ms/step - loss: 0.3910 - accuracy: 1.0000 - val_loss: 0.3770 - val_accuracy: 1.0000\n",
      "Epoch 34/100\n",
      "18/18 [==============================] - 0s 4ms/step - loss: 0.3749 - accuracy: 1.0000 - val_loss: 0.3607 - val_accuracy: 1.0000\n",
      "Epoch 35/100\n",
      "18/18 [==============================] - 0s 2ms/step - loss: 0.3588 - accuracy: 1.0000 - val_loss: 0.3448 - val_accuracy: 1.0000\n",
      "Epoch 36/100\n",
      "18/18 [==============================] - 0s 2ms/step - loss: 0.3425 - accuracy: 1.0000 - val_loss: 0.3284 - val_accuracy: 1.0000\n",
      "Epoch 37/100\n",
      "18/18 [==============================] - 0s 2ms/step - loss: 0.3270 - accuracy: 1.0000 - val_loss: 0.3132 - val_accuracy: 1.0000\n",
      "Epoch 38/100\n",
      "18/18 [==============================] - 0s 2ms/step - loss: 0.3114 - accuracy: 1.0000 - val_loss: 0.2980 - val_accuracy: 1.0000\n",
      "Epoch 39/100\n",
      "18/18 [==============================] - 0s 1ms/step - loss: 0.2961 - accuracy: 1.0000 - val_loss: 0.2828 - val_accuracy: 1.0000\n",
      "Epoch 40/100\n",
      "18/18 [==============================] - 0s 4ms/step - loss: 0.2806 - accuracy: 1.0000 - val_loss: 0.2679 - val_accuracy: 1.0000\n",
      "Epoch 41/100\n",
      "18/18 [==============================] - 0s 2ms/step - loss: 0.2656 - accuracy: 1.0000 - val_loss: 0.2529 - val_accuracy: 1.0000\n",
      "Epoch 42/100\n",
      "18/18 [==============================] - 0s 1ms/step - loss: 0.2507 - accuracy: 1.0000 - val_loss: 0.2385 - val_accuracy: 1.0000\n",
      "Epoch 43/100\n",
      "18/18 [==============================] - 0s 4ms/step - loss: 0.2360 - accuracy: 1.0000 - val_loss: 0.2240 - val_accuracy: 1.0000\n",
      "Epoch 44/100\n",
      "18/18 [==============================] - 0s 2ms/step - loss: 0.2213 - accuracy: 1.0000 - val_loss: 0.2097 - val_accuracy: 1.0000\n",
      "Epoch 45/100\n",
      "18/18 [==============================] - 0s 2ms/step - loss: 0.2071 - accuracy: 1.0000 - val_loss: 0.1960 - val_accuracy: 1.0000\n",
      "Epoch 46/100\n",
      "18/18 [==============================] - 0s 2ms/step - loss: 0.1933 - accuracy: 1.0000 - val_loss: 0.1826 - val_accuracy: 1.0000\n",
      "Epoch 47/100\n",
      "18/18 [==============================] - 0s 2ms/step - loss: 0.1797 - accuracy: 1.0000 - val_loss: 0.1697 - val_accuracy: 1.0000\n",
      "Epoch 48/100\n",
      "18/18 [==============================] - 0s 2ms/step - loss: 0.1671 - accuracy: 1.0000 - val_loss: 0.1579 - val_accuracy: 1.0000\n",
      "Epoch 49/100\n",
      "18/18 [==============================] - 0s 2ms/step - loss: 0.1550 - accuracy: 1.0000 - val_loss: 0.1460 - val_accuracy: 1.0000\n",
      "Epoch 50/100\n",
      "18/18 [==============================] - 0s 2ms/step - loss: 0.1434 - accuracy: 1.0000 - val_loss: 0.1352 - val_accuracy: 1.0000\n",
      "Epoch 51/100\n",
      "18/18 [==============================] - 0s 1ms/step - loss: 0.1323 - accuracy: 1.0000 - val_loss: 0.1243 - val_accuracy: 1.0000\n",
      "Epoch 52/100\n",
      "18/18 [==============================] - 0s 2ms/step - loss: 0.1218 - accuracy: 1.0000 - val_loss: 0.1144 - val_accuracy: 1.0000\n",
      "Epoch 53/100\n",
      "18/18 [==============================] - 0s 3ms/step - loss: 0.1118 - accuracy: 1.0000 - val_loss: 0.1049 - val_accuracy: 1.0000\n",
      "Epoch 54/100\n",
      "18/18 [==============================] - 0s 1ms/step - loss: 0.1025 - accuracy: 1.0000 - val_loss: 0.0961 - val_accuracy: 1.0000\n",
      "Epoch 55/100\n",
      "18/18 [==============================] - 0s 1ms/step - loss: 0.0938 - accuracy: 1.0000 - val_loss: 0.0879 - val_accuracy: 1.0000\n",
      "Epoch 56/100\n",
      "18/18 [==============================] - 0s 3ms/step - loss: 0.0856 - accuracy: 1.0000 - val_loss: 0.0801 - val_accuracy: 1.0000\n",
      "Epoch 57/100\n",
      "18/18 [==============================] - 0s 2ms/step - loss: 0.0778 - accuracy: 1.0000 - val_loss: 0.0727 - val_accuracy: 1.0000\n",
      "Epoch 58/100\n",
      "18/18 [==============================] - 0s 2ms/step - loss: 0.0706 - accuracy: 1.0000 - val_loss: 0.0660 - val_accuracy: 1.0000\n",
      "Epoch 59/100\n",
      "18/18 [==============================] - 0s 2ms/step - loss: 0.0640 - accuracy: 1.0000 - val_loss: 0.0597 - val_accuracy: 1.0000\n",
      "Epoch 60/100\n",
      "18/18 [==============================] - 0s 2ms/step - loss: 0.0579 - accuracy: 1.0000 - val_loss: 0.0540 - val_accuracy: 1.0000\n",
      "Epoch 61/100\n",
      "18/18 [==============================] - 0s 2ms/step - loss: 0.0523 - accuracy: 1.0000 - val_loss: 0.0488 - val_accuracy: 1.0000\n",
      "Epoch 62/100\n",
      "18/18 [==============================] - 0s 2ms/step - loss: 0.0472 - accuracy: 1.0000 - val_loss: 0.0440 - val_accuracy: 1.0000\n",
      "Epoch 63/100\n",
      "18/18 [==============================] - 0s 2ms/step - loss: 0.0426 - accuracy: 1.0000 - val_loss: 0.0399 - val_accuracy: 1.0000\n",
      "Epoch 64/100\n",
      "18/18 [==============================] - 0s 2ms/step - loss: 0.0383 - accuracy: 1.0000 - val_loss: 0.0357 - val_accuracy: 1.0000\n",
      "Epoch 65/100\n",
      "18/18 [==============================] - 0s 2ms/step - loss: 0.0343 - accuracy: 1.0000 - val_loss: 0.0319 - val_accuracy: 1.0000\n",
      "Epoch 66/100\n",
      "18/18 [==============================] - 0s 1ms/step - loss: 0.0307 - accuracy: 1.0000 - val_loss: 0.0286 - val_accuracy: 1.0000\n",
      "Epoch 67/100\n",
      "18/18 [==============================] - 0s 1ms/step - loss: 0.0274 - accuracy: 1.0000 - val_loss: 0.0255 - val_accuracy: 1.0000\n",
      "Epoch 68/100\n",
      "18/18 [==============================] - 0s 1ms/step - loss: 0.0245 - accuracy: 1.0000 - val_loss: 0.0228 - val_accuracy: 1.0000\n",
      "Epoch 69/100\n",
      "18/18 [==============================] - 0s 2ms/step - loss: 0.0218 - accuracy: 1.0000 - val_loss: 0.0203 - val_accuracy: 1.0000\n",
      "Epoch 70/100\n",
      "18/18 [==============================] - 0s 1ms/step - loss: 0.0195 - accuracy: 1.0000 - val_loss: 0.0181 - val_accuracy: 1.0000\n",
      "Epoch 71/100\n",
      "18/18 [==============================] - 0s 6ms/step - loss: 0.0174 - accuracy: 1.0000 - val_loss: 0.0162 - val_accuracy: 1.0000\n",
      "Epoch 72/100\n",
      "18/18 [==============================] - 0s 7ms/step - loss: 0.0155 - accuracy: 1.0000 - val_loss: 0.0144 - val_accuracy: 1.0000\n",
      "Epoch 73/100\n",
      "18/18 [==============================] - 0s 2ms/step - loss: 0.0138 - accuracy: 1.0000 - val_loss: 0.0128 - val_accuracy: 1.0000\n",
      "Epoch 74/100\n",
      "18/18 [==============================] - 0s 2ms/step - loss: 0.0123 - accuracy: 1.0000 - val_loss: 0.0114 - val_accuracy: 1.0000\n",
      "Epoch 75/100\n",
      "18/18 [==============================] - 0s 2ms/step - loss: 0.0109 - accuracy: 1.0000 - val_loss: 0.0101 - val_accuracy: 1.0000\n",
      "Epoch 76/100\n",
      "18/18 [==============================] - 0s 2ms/step - loss: 0.0097 - accuracy: 1.0000 - val_loss: 0.0090 - val_accuracy: 1.0000\n",
      "Epoch 77/100\n",
      "18/18 [==============================] - 0s 2ms/step - loss: 0.0086 - accuracy: 1.0000 - val_loss: 0.0080 - val_accuracy: 1.0000\n",
      "Epoch 78/100\n",
      "18/18 [==============================] - 0s 2ms/step - loss: 0.0076 - accuracy: 1.0000 - val_loss: 0.0071 - val_accuracy: 1.0000\n",
      "Epoch 79/100\n",
      "18/18 [==============================] - 0s 11ms/step - loss: 0.0067 - accuracy: 1.0000 - val_loss: 0.0062 - val_accuracy: 1.0000\n",
      "Epoch 80/100\n",
      "18/18 [==============================] - 0s 2ms/step - loss: 0.0059 - accuracy: 1.0000 - val_loss: 0.0055 - val_accuracy: 1.0000\n",
      "Epoch 81/100\n",
      "18/18 [==============================] - 0s 962us/step - loss: 0.0053 - accuracy: 1.0000 - val_loss: 0.0049 - val_accuracy: 1.0000\n",
      "Epoch 82/100\n",
      "18/18 [==============================] - 0s 4ms/step - loss: 0.0047 - accuracy: 1.0000 - val_loss: 0.0043 - val_accuracy: 1.0000\n",
      "Epoch 83/100\n",
      "18/18 [==============================] - 0s 2ms/step - loss: 0.0041 - accuracy: 1.0000 - val_loss: 0.0039 - val_accuracy: 1.0000\n",
      "Epoch 84/100\n",
      "18/18 [==============================] - 0s 2ms/step - loss: 0.0037 - accuracy: 1.0000 - val_loss: 0.0034 - val_accuracy: 1.0000\n",
      "Epoch 85/100\n",
      "18/18 [==============================] - 0s 2ms/step - loss: 0.0032 - accuracy: 1.0000 - val_loss: 0.0030 - val_accuracy: 1.0000\n",
      "Epoch 86/100\n",
      "18/18 [==============================] - 0s 11ms/step - loss: 0.0029 - accuracy: 1.0000 - val_loss: 0.0027 - val_accuracy: 1.0000\n",
      "Epoch 87/100\n",
      "18/18 [==============================] - 0s 2ms/step - loss: 0.0025 - accuracy: 1.0000 - val_loss: 0.0024 - val_accuracy: 1.0000\n",
      "Epoch 88/100\n",
      "18/18 [==============================] - 0s 2ms/step - loss: 0.0023 - accuracy: 1.0000 - val_loss: 0.0021 - val_accuracy: 1.0000\n",
      "Epoch 89/100\n",
      "18/18 [==============================] - 0s 2ms/step - loss: 0.0020 - accuracy: 1.0000 - val_loss: 0.0019 - val_accuracy: 1.0000\n",
      "Epoch 90/100\n",
      "18/18 [==============================] - 0s 2ms/step - loss: 0.0018 - accuracy: 1.0000 - val_loss: 0.0017 - val_accuracy: 1.0000\n",
      "Epoch 91/100\n",
      "18/18 [==============================] - 0s 2ms/step - loss: 0.0016 - accuracy: 1.0000 - val_loss: 0.0015 - val_accuracy: 1.0000\n",
      "Epoch 92/100\n",
      "18/18 [==============================] - 0s 2ms/step - loss: 0.0014 - accuracy: 1.0000 - val_loss: 0.0013 - val_accuracy: 1.0000\n",
      "Epoch 93/100\n",
      "18/18 [==============================] - 0s 2ms/step - loss: 0.0012 - accuracy: 1.0000 - val_loss: 0.0012 - val_accuracy: 1.0000\n",
      "Epoch 94/100\n",
      "18/18 [==============================] - 0s 2ms/step - loss: 0.0011 - accuracy: 1.0000 - val_loss: 0.0010 - val_accuracy: 1.0000\n",
      "Epoch 95/100\n",
      "18/18 [==============================] - 0s 2ms/step - loss: 9.7663e-04 - accuracy: 1.0000 - val_loss: 9.1485e-04 - val_accuracy: 1.0000\n",
      "Epoch 96/100\n",
      "18/18 [==============================] - 0s 2ms/step - loss: 8.6915e-04 - accuracy: 1.0000 - val_loss: 8.1462e-04 - val_accuracy: 1.0000\n",
      "Epoch 97/100\n",
      "18/18 [==============================] - 0s 2ms/step - loss: 7.7418e-04 - accuracy: 1.0000 - val_loss: 7.2630e-04 - val_accuracy: 1.0000\n",
      "Epoch 98/100\n",
      "18/18 [==============================] - 0s 2ms/step - loss: 6.8861e-04 - accuracy: 1.0000 - val_loss: 6.4578e-04 - val_accuracy: 1.0000\n",
      "Epoch 99/100\n",
      "18/18 [==============================] - 0s 11ms/step - loss: 6.1452e-04 - accuracy: 1.0000 - val_loss: 5.7675e-04 - val_accuracy: 1.0000\n",
      "Epoch 100/100\n",
      "18/18 [==============================] - 0s 2ms/step - loss: 5.4872e-04 - accuracy: 1.0000 - val_loss: 5.1585e-04 - val_accuracy: 1.0000\n"
     ]
    }
   ],
   "source": [
    "history = network.fit(X_train, y_train, epochs=epoch, shuffle=True, verbose=1, validation_split= 0.1)"
   ]
  },
  {
   "cell_type": "code",
   "execution_count": 276,
   "metadata": {},
   "outputs": [
    {
     "data": {
      "image/png": "[encoded data removed]",
      "text/plain": [
       "<Figure size 432x288 with 1 Axes>"
      ]
     },
     "metadata": {
      "needs_background": "light"
     },
     "output_type": "display_data"
    }
   ],
   "source": [
    "plt.plot(history.history['accuracy'])\n",
    "plt.plot(history.history['val_accuracy'])\n",
    "plt.xlabel(\"Epochs\")\n",
    "plt.ylabel(\"Accuracy\")\n",
    "plt.legend([\"Training_acc\", \"Validation_acc\"])\n",
    "plt.show()"
   ]
  },
  {
   "cell_type": "code",
   "execution_count": 277,
   "metadata": {},
   "outputs": [
    {
     "data": {
      "text/plain": [
       "array([[9.9928355e-01],\n",
       "       [3.5682321e-04],\n",
       "       [3.5682321e-04],\n",
       "       [2.8294325e-04],\n",
       "       [2.8294325e-04],\n",
       "       [9.9928355e-01],\n",
       "       [3.5682321e-04],\n",
       "       [2.8294325e-04],\n",
       "       [3.5682321e-04],\n",
       "       [9.9928445e-01],\n",
       "       [9.9928355e-01],\n",
       "       [2.8294325e-04],\n",
       "       [9.9928355e-01],\n",
       "       [9.9928445e-01],\n",
       "       [9.9928445e-01],\n",
       "       [3.5682321e-04],\n",
       "       [9.9928445e-01],\n",
       "       [9.9928445e-01],\n",
       "       [9.9928355e-01],\n",
       "       [9.9928445e-01],\n",
       "       [3.5682321e-04],\n",
       "       [9.9928355e-01],\n",
       "       [9.9928445e-01],\n",
       "       [9.9928355e-01],\n",
       "       [3.5682321e-04],\n",
       "       [9.9928445e-01],\n",
       "       [9.9928355e-01],\n",
       "       [2.8294325e-04],\n",
       "       [3.5682321e-04],\n",
       "       [9.9928355e-01],\n",
       "       [9.9928355e-01],\n",
       "       [9.9928355e-01],\n",
       "       [2.8294325e-04],\n",
       "       [3.5682321e-04],\n",
       "       [9.9928445e-01],\n",
       "       [9.9928445e-01],\n",
       "       [3.5682321e-04],\n",
       "       [9.9928445e-01],\n",
       "       [9.9928355e-01],\n",
       "       [2.8294325e-04],\n",
       "       [2.8294325e-04],\n",
       "       [9.9928355e-01],\n",
       "       [9.9928355e-01],\n",
       "       [2.8294325e-04],\n",
       "       [3.5682321e-04],\n",
       "       [2.8294325e-04],\n",
       "       [3.5682321e-04],\n",
       "       [2.8294325e-04],\n",
       "       [3.5682321e-04],\n",
       "       [2.8294325e-04],\n",
       "       [2.8294325e-04],\n",
       "       [2.8294325e-04],\n",
       "       [9.9928445e-01],\n",
       "       [9.9928355e-01],\n",
       "       [3.5682321e-04],\n",
       "       [2.8294325e-04],\n",
       "       [2.8294325e-04],\n",
       "       [9.9928355e-01],\n",
       "       [3.5682321e-04],\n",
       "       [3.5682321e-04],\n",
       "       [9.9928355e-01],\n",
       "       [9.9928445e-01],\n",
       "       [9.9928355e-01],\n",
       "       [2.8294325e-04],\n",
       "       [3.5682321e-04],\n",
       "       [9.9928445e-01],\n",
       "       [9.9928445e-01],\n",
       "       [9.9928445e-01],\n",
       "       [9.9928445e-01],\n",
       "       [3.5682321e-04],\n",
       "       [3.5682321e-04],\n",
       "       [2.8294325e-04],\n",
       "       [2.8294325e-04],\n",
       "       [9.9928445e-01],\n",
       "       [3.5682321e-04],\n",
       "       [3.5682321e-04],\n",
       "       [9.9928355e-01],\n",
       "       [9.9928445e-01],\n",
       "       [9.9928445e-01],\n",
       "       [9.9928355e-01],\n",
       "       [9.9928445e-01],\n",
       "       [9.9928355e-01],\n",
       "       [3.5682321e-04],\n",
       "       [9.9928355e-01],\n",
       "       [2.8294325e-04],\n",
       "       [9.9928355e-01],\n",
       "       [2.8294325e-04],\n",
       "       [3.5682321e-04],\n",
       "       [9.9928445e-01],\n",
       "       [3.5682321e-04],\n",
       "       [3.5682321e-04],\n",
       "       [3.5682321e-04],\n",
       "       [2.8294325e-04],\n",
       "       [9.9928355e-01],\n",
       "       [2.8294325e-04],\n",
       "       [9.9928355e-01],\n",
       "       [2.8294325e-04],\n",
       "       [9.9928355e-01],\n",
       "       [3.5682321e-04],\n",
       "       [9.9928355e-01],\n",
       "       [9.9928355e-01],\n",
       "       [9.9928445e-01],\n",
       "       [3.5682321e-04],\n",
       "       [9.9928445e-01],\n",
       "       [9.9928355e-01],\n",
       "       [9.9928445e-01],\n",
       "       [9.9928445e-01],\n",
       "       [2.8294325e-04],\n",
       "       [3.5682321e-04],\n",
       "       [9.9928355e-01],\n",
       "       [9.9928355e-01],\n",
       "       [9.9928355e-01],\n",
       "       [2.8294325e-04],\n",
       "       [9.9928355e-01],\n",
       "       [9.9928445e-01],\n",
       "       [3.5682321e-04],\n",
       "       [9.9928355e-01],\n",
       "       [3.5682321e-04],\n",
       "       [3.5682321e-04],\n",
       "       [2.8294325e-04],\n",
       "       [2.8294325e-04],\n",
       "       [9.9928445e-01],\n",
       "       [9.9928445e-01],\n",
       "       [9.9928355e-01],\n",
       "       [9.9928445e-01],\n",
       "       [9.9928355e-01],\n",
       "       [2.8294325e-04],\n",
       "       [3.5682321e-04],\n",
       "       [3.5682321e-04],\n",
       "       [9.9928355e-01],\n",
       "       [2.8294325e-04],\n",
       "       [9.9928445e-01],\n",
       "       [9.9928445e-01],\n",
       "       [9.9928355e-01],\n",
       "       [9.9928355e-01],\n",
       "       [9.9928355e-01],\n",
       "       [3.5682321e-04],\n",
       "       [3.5682321e-04],\n",
       "       [9.9928355e-01],\n",
       "       [3.5682321e-04],\n",
       "       [9.9928355e-01],\n",
       "       [9.9928445e-01],\n",
       "       [2.8294325e-04],\n",
       "       [9.9928445e-01],\n",
       "       [9.9928445e-01],\n",
       "       [3.5682321e-04],\n",
       "       [2.8294325e-04],\n",
       "       [2.8294325e-04],\n",
       "       [3.5682321e-04],\n",
       "       [9.9928355e-01],\n",
       "       [3.5682321e-04],\n",
       "       [9.9928445e-01],\n",
       "       [2.8294325e-04],\n",
       "       [9.9928355e-01],\n",
       "       [3.5682321e-04],\n",
       "       [9.9928445e-01],\n",
       "       [2.8294325e-04],\n",
       "       [9.9928445e-01],\n",
       "       [3.5682321e-04],\n",
       "       [2.8294325e-04]], dtype=float32)"
      ]
     },
     "execution_count": 277,
     "metadata": {},
     "output_type": "execute_result"
    }
   ],
   "source": [
    "prediction = network.predict(x = X_test)\n",
    "prediction"
   ]
  },
  {
   "cell_type": "code",
   "execution_count": 278,
   "metadata": {},
   "outputs": [
    {
     "data": {
      "text/plain": [
       "(160, 1)"
      ]
     },
     "execution_count": 278,
     "metadata": {},
     "output_type": "execute_result"
    }
   ],
   "source": [
    "prediction.shape"
   ]
  },
  {
   "cell_type": "code",
   "execution_count": null,
   "metadata": {},
   "outputs": [],
   "source": [
    "for i in range(10):\n",
    "    print(prediction[i])"
   ]
  },
  {
   "cell_type": "code",
   "execution_count": 279,
   "metadata": {},
   "outputs": [],
   "source": [
    "#rounded_prediction = np.argmax(prediction, axis = 1) # axis = 1 (through rows)\n",
    "#rounded_prediction"
   ]
  },
  {
   "cell_type": "code",
   "execution_count": 280,
   "metadata": {},
   "outputs": [],
   "source": [
    "rounded_prediction = np.round(prediction) # as we have only one output neuron. argmax cannot be used in this case. So simple rounding off the predicited array will suffice"
   ]
  },
  {
   "cell_type": "code",
   "execution_count": null,
   "metadata": {},
   "outputs": [],
   "source": [
    "for i in range(10):\n",
    "    print(rounded_prediction[i])"
   ]
  },
  {
   "cell_type": "code",
   "execution_count": 281,
   "metadata": {},
   "outputs": [
    {
     "name": "stdout",
     "output_type": "stream",
     "text": [
      "[1.] 1\n",
      "[0.] 0\n",
      "[0.] 0\n",
      "[0.] 0\n",
      "[0.] 0\n",
      "[1.] 1\n",
      "[0.] 0\n",
      "[0.] 0\n",
      "[0.] 0\n",
      "[1.] 1\n"
     ]
    }
   ],
   "source": [
    "for i in range(10):\n",
    "    print(rounded_prediction[i], y_test[i])"
   ]
  },
  {
   "cell_type": "markdown",
   "metadata": {},
   "source": [
    "## Confusion Matrix"
   ]
  },
  {
   "cell_type": "code",
   "execution_count": 282,
   "metadata": {},
   "outputs": [],
   "source": [
    "# 1. Variant\n",
    "# Code is copied from Scikit website\n",
    "\n",
    "def plot_confusion_matrix(cm, classes,\n",
    "                          normalize=False,\n",
    "                          title='Confusion matrix',\n",
    "                          cmap=plt.cm.Blues):\n",
    "    \"\"\"\n",
    "    This function prints and plots the confusion matrix.\n",
    "    Normalization can be applied by setting `normalize=True`.\n",
    "    \"\"\"\n",
    "    plt.imshow(cm, interpolation='nearest', cmap=cmap)\n",
    "    plt.title(title)\n",
    "    plt.colorbar()\n",
    "    tick_marks = np.arange(len(classes))\n",
    "    plt.xticks(tick_marks, classes, rotation=45)\n",
    "    plt.yticks(tick_marks, classes)\n",
    "\n",
    "    if normalize:\n",
    "        cm = cm.astype('float') / cm.sum(axis=1)[:, np.newaxis]\n",
    "        print(\"Normalized confusion matrix\")\n",
    "    else:\n",
    "        print('Confusion matrix, without normalization')\n",
    "\n",
    "    print(cm)\n",
    "\n",
    "    thresh = cm.max() / 2.\n",
    "    for i, j in itertools.product(range(cm.shape[0]), range(cm.shape[1])):\n",
    "        plt.text(j, i, cm[i, j],\n",
    "                 horizontalalignment=\"center\",\n",
    "                 color=\"white\" if cm[i, j] > thresh else \"black\")\n",
    "\n",
    "    plt.tight_layout()\n",
    "    plt.ylabel('True label')\n",
    "    plt.xlabel('Predicted label')"
   ]
  },
  {
   "cell_type": "code",
   "execution_count": 283,
   "metadata": {},
   "outputs": [
    {
     "name": "stdout",
     "output_type": "stream",
     "text": [
      "Confusion matrix, without normalization\n",
      "[[78  0]\n",
      " [ 0 82]]\n"
     ]
    },
    {
     "data": {
      "image/png": "[encoded data removed]",
      "text/plain": [
       "<Figure size 432x288 with 2 Axes>"
      ]
     },
     "metadata": {
      "needs_background": "light"
     },
     "output_type": "display_data"
    }
   ],
   "source": [
    "cm = confusion_matrix(y_true=y_test, y_pred=rounded_prediction)\n",
    "\n",
    "# Create labels for my plot --> Classes\n",
    "cm_plot_labels = [\"0\", \"1\"]\n",
    "\n",
    "plot_confusion_matrix(cm= cm, classes= cm_plot_labels, title= \"Confusion matrix for XOR\")"
   ]
  }
 ],
 "metadata": {
  "interpreter": {
   "hash": "7241d452e4e494699ef50a37887ed5c1dce1b126e013039f65d546903dedebae"
  },
  "kernelspec": {
   "display_name": "Python 3.9.7 64-bit",
   "language": "python",
   "name": "python3"
  },
  "language_info": {
   "codemirror_mode": {
    "name": "ipython",
    "version": 3
   },
   "file_extension": ".py",
   "mimetype": "text/x-python",
   "name": "python",
   "nbconvert_exporter": "python",
   "pygments_lexer": "ipython3",
   "version": "3.9.7"
  },
  "orig_nbformat": 4
 },
 "nbformat": 4,
 "nbformat_minor": 2
}
